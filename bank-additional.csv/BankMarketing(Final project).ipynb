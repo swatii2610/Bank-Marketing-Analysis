{
 "cells": [
  {
   "cell_type": "markdown",
   "id": "5214a467",
   "metadata": {},
   "source": [
    "# Exploratory Data Analysis and Model Building - Bank Marketing Campaign"
   ]
  },
  {
   "cell_type": "markdown",
   "id": "44964b32",
   "metadata": {},
   "source": [
    "# Data Description"
   ]
  },
  {
   "cell_type": "markdown",
   "id": "5e301244",
   "metadata": {},
   "source": [
    "This is the classic marketing bank dataset uploaded originally in the UCI Machine Learning Repository. The dataset gives you information about a marketing campaign of a financial institution in which you will have to analyze in order to find ways to look for future strategies in order to improve future marketing campaigns for the bank."
   ]
  },
  {
   "cell_type": "markdown",
   "id": "3d463721",
   "metadata": {},
   "source": [
    "# What is Term Deposit"
   ]
  },
  {
   "cell_type": "markdown",
   "id": "a5170342",
   "metadata": {},
   "source": [
    "A Term deposit is a deposit that a bank or a financial institurion offers with a fixed rate (often better than just opening deposit account) in which your money will be returned back at a specific maturity time."
   ]
  },
  {
   "cell_type": "markdown",
   "id": "18a67011",
   "metadata": {},
   "source": [
    "# Data Preparation"
   ]
  },
  {
   "cell_type": "code",
   "execution_count": 102,
   "id": "d80a3b7e",
   "metadata": {},
   "outputs": [],
   "source": [
    "import numpy as np\n",
    "import pandas as pd\n",
    "import matplotlib.pyplot as plt\n",
    "import seaborn as sns\n",
    "from sklearn.preprocessing import MinMaxScaler,StandardScaler"
   ]
  },
  {
   "cell_type": "code",
   "execution_count": 103,
   "id": "f5a2767c",
   "metadata": {},
   "outputs": [],
   "source": [
    "#create dataframe to read data set\n",
    "data= pd.read_csv(\"bank-additional-full.csv\", sep=\";\")\n",
    "data=data.drop(\"duration\",axis=1)"
   ]
  },
  {
   "cell_type": "markdown",
   "id": "92044b5e",
   "metadata": {},
   "source": [
    "# Dataset Information"
   ]
  },
  {
   "cell_type": "markdown",
   "id": "cdd14a64",
   "metadata": {},
   "source": [
    "The data is related with direct marketing campaigns of banking institution. The marketing campaigns were based on phone calls. Often, more than one contact to the same client was required, in order to access if the product (bank term deposit) would be ('yes') or not ('no') subscribed.\n",
    "\n",
    "\n",
    "The classification goal is to predict if the client will subscribe (yes/no) a term deposit (variable y)."
   ]
  },
  {
   "cell_type": "code",
   "execution_count": 104,
   "id": "57f58df5",
   "metadata": {},
   "outputs": [
    {
     "data": {
      "text/html": [
       "<div>\n",
       "<style scoped>\n",
       "    .dataframe tbody tr th:only-of-type {\n",
       "        vertical-align: middle;\n",
       "    }\n",
       "\n",
       "    .dataframe tbody tr th {\n",
       "        vertical-align: top;\n",
       "    }\n",
       "\n",
       "    .dataframe thead th {\n",
       "        text-align: right;\n",
       "    }\n",
       "</style>\n",
       "<table border=\"1\" class=\"dataframe\">\n",
       "  <thead>\n",
       "    <tr style=\"text-align: right;\">\n",
       "      <th></th>\n",
       "      <th>age</th>\n",
       "      <th>job</th>\n",
       "      <th>marital</th>\n",
       "      <th>education</th>\n",
       "      <th>default</th>\n",
       "      <th>housing</th>\n",
       "      <th>loan</th>\n",
       "      <th>contact</th>\n",
       "      <th>month</th>\n",
       "      <th>day_of_week</th>\n",
       "      <th>campaign</th>\n",
       "      <th>pdays</th>\n",
       "      <th>previous</th>\n",
       "      <th>poutcome</th>\n",
       "      <th>empvarrate</th>\n",
       "      <th>conspriceidx</th>\n",
       "      <th>cons.conf.idx</th>\n",
       "      <th>euribor3m</th>\n",
       "      <th>nr.employed</th>\n",
       "      <th>y</th>\n",
       "    </tr>\n",
       "  </thead>\n",
       "  <tbody>\n",
       "    <tr>\n",
       "      <th>0</th>\n",
       "      <td>56</td>\n",
       "      <td>housemaid</td>\n",
       "      <td>married</td>\n",
       "      <td>basic.4y</td>\n",
       "      <td>no</td>\n",
       "      <td>no</td>\n",
       "      <td>no</td>\n",
       "      <td>telephone</td>\n",
       "      <td>may</td>\n",
       "      <td>mon</td>\n",
       "      <td>1</td>\n",
       "      <td>999</td>\n",
       "      <td>0</td>\n",
       "      <td>nonexistent</td>\n",
       "      <td>1.1</td>\n",
       "      <td>93.994</td>\n",
       "      <td>-36.4</td>\n",
       "      <td>4.857</td>\n",
       "      <td>5191.0</td>\n",
       "      <td>no</td>\n",
       "    </tr>\n",
       "    <tr>\n",
       "      <th>1</th>\n",
       "      <td>57</td>\n",
       "      <td>services</td>\n",
       "      <td>married</td>\n",
       "      <td>high.school</td>\n",
       "      <td>unknown</td>\n",
       "      <td>no</td>\n",
       "      <td>no</td>\n",
       "      <td>telephone</td>\n",
       "      <td>may</td>\n",
       "      <td>mon</td>\n",
       "      <td>1</td>\n",
       "      <td>999</td>\n",
       "      <td>0</td>\n",
       "      <td>nonexistent</td>\n",
       "      <td>1.1</td>\n",
       "      <td>93.994</td>\n",
       "      <td>-36.4</td>\n",
       "      <td>4.857</td>\n",
       "      <td>5191.0</td>\n",
       "      <td>no</td>\n",
       "    </tr>\n",
       "    <tr>\n",
       "      <th>2</th>\n",
       "      <td>37</td>\n",
       "      <td>services</td>\n",
       "      <td>married</td>\n",
       "      <td>high.school</td>\n",
       "      <td>no</td>\n",
       "      <td>yes</td>\n",
       "      <td>no</td>\n",
       "      <td>telephone</td>\n",
       "      <td>may</td>\n",
       "      <td>mon</td>\n",
       "      <td>1</td>\n",
       "      <td>999</td>\n",
       "      <td>0</td>\n",
       "      <td>nonexistent</td>\n",
       "      <td>1.1</td>\n",
       "      <td>93.994</td>\n",
       "      <td>-36.4</td>\n",
       "      <td>4.857</td>\n",
       "      <td>5191.0</td>\n",
       "      <td>no</td>\n",
       "    </tr>\n",
       "    <tr>\n",
       "      <th>3</th>\n",
       "      <td>40</td>\n",
       "      <td>admin.</td>\n",
       "      <td>married</td>\n",
       "      <td>basic.6y</td>\n",
       "      <td>no</td>\n",
       "      <td>no</td>\n",
       "      <td>no</td>\n",
       "      <td>telephone</td>\n",
       "      <td>may</td>\n",
       "      <td>mon</td>\n",
       "      <td>1</td>\n",
       "      <td>999</td>\n",
       "      <td>0</td>\n",
       "      <td>nonexistent</td>\n",
       "      <td>1.1</td>\n",
       "      <td>93.994</td>\n",
       "      <td>-36.4</td>\n",
       "      <td>4.857</td>\n",
       "      <td>5191.0</td>\n",
       "      <td>no</td>\n",
       "    </tr>\n",
       "    <tr>\n",
       "      <th>4</th>\n",
       "      <td>56</td>\n",
       "      <td>services</td>\n",
       "      <td>married</td>\n",
       "      <td>high.school</td>\n",
       "      <td>no</td>\n",
       "      <td>no</td>\n",
       "      <td>yes</td>\n",
       "      <td>telephone</td>\n",
       "      <td>may</td>\n",
       "      <td>mon</td>\n",
       "      <td>1</td>\n",
       "      <td>999</td>\n",
       "      <td>0</td>\n",
       "      <td>nonexistent</td>\n",
       "      <td>1.1</td>\n",
       "      <td>93.994</td>\n",
       "      <td>-36.4</td>\n",
       "      <td>4.857</td>\n",
       "      <td>5191.0</td>\n",
       "      <td>no</td>\n",
       "    </tr>\n",
       "  </tbody>\n",
       "</table>\n",
       "</div>"
      ],
      "text/plain": [
       "   age        job  marital    education  default housing loan    contact  \\\n",
       "0   56  housemaid  married     basic.4y       no      no   no  telephone   \n",
       "1   57   services  married  high.school  unknown      no   no  telephone   \n",
       "2   37   services  married  high.school       no     yes   no  telephone   \n",
       "3   40     admin.  married     basic.6y       no      no   no  telephone   \n",
       "4   56   services  married  high.school       no      no  yes  telephone   \n",
       "\n",
       "  month day_of_week  campaign  pdays  previous     poutcome  empvarrate  \\\n",
       "0   may         mon         1    999         0  nonexistent         1.1   \n",
       "1   may         mon         1    999         0  nonexistent         1.1   \n",
       "2   may         mon         1    999         0  nonexistent         1.1   \n",
       "3   may         mon         1    999         0  nonexistent         1.1   \n",
       "4   may         mon         1    999         0  nonexistent         1.1   \n",
       "\n",
       "   conspriceidx  cons.conf.idx  euribor3m  nr.employed   y  \n",
       "0        93.994          -36.4      4.857       5191.0  no  \n",
       "1        93.994          -36.4      4.857       5191.0  no  \n",
       "2        93.994          -36.4      4.857       5191.0  no  \n",
       "3        93.994          -36.4      4.857       5191.0  no  \n",
       "4        93.994          -36.4      4.857       5191.0  no  "
      ]
     },
     "execution_count": 104,
     "metadata": {},
     "output_type": "execute_result"
    }
   ],
   "source": [
    "#top 5 rows for reading the dataset\n",
    "data.head()  "
   ]
  },
  {
   "cell_type": "markdown",
   "id": "e69c618a",
   "metadata": {},
   "source": [
    "# Attribute Information"
   ]
  },
  {
   "cell_type": "raw",
   "id": "1c27049d",
   "metadata": {},
   "source": [
    "Attribute Information:\n",
    "\n",
    "Input variables:\n",
    "# bank client data:\n",
    "1 - age (numeric)\n",
    "2 - job : type of job (categorical: 'admin.','blue-collar','entrepreneur','housemaid','management','retired','self-employed','services','student','technician','unemployed','unknown')\n",
    "3 - marital : marital status (categorical: 'divorced','married','single','unknown'; note: 'divorced' means divorced or widowed)\n",
    "4 - education (categorical: 'basic.4y','basic.6y','basic.9y','high.school','illiterate','professional.course','university.degree','unknown')\n",
    "5 - default: has credit in default? (categorical: 'no','yes','unknown')\n",
    "6 - housing: has housing loan? (categorical: 'no','yes','unknown')\n",
    "7 - loan: has personal loan? (categorical: 'no','yes','unknown')\n",
    "# related with the last contact of the current campaign:\n",
    "8 - contact: contact communication type (categorical: 'cellular','telephone')\n",
    "9 - month: last contact month of year (categorical: 'jan', 'feb', 'mar', ..., 'nov', 'dec')\n",
    "10 - day_of_week: last contact day of the week (categorical: 'mon','tue','wed','thu','fri')\n",
    "11 - duration: last contact duration, in seconds (numeric). Important note: this attribute highly affects the output target (e.g., if duration=0 then y='no'). Yet, the duration is not known before a call is performed. Also, after the end of the call y is obviously known. Thus, this input should only be included for benchmark purposes and should be discarded if the intention is to have a realistic predictive model.\n",
    "# other attributes:\n",
    "12 - campaign: number of contacts performed during this campaign and for this client (numeric, includes last contact)\n",
    "13 - pdays: number of days that passed by after the client was last contacted from a previous campaign (numeric; 999 means client was not previously contacted)\n",
    "14 - previous: number of contacts performed before this campaign and for this client (numeric)\n",
    "15 - poutcome: outcome of the previous marketing campaign (categorical: 'failure','nonexistent','success')\n",
    "# social and economic context attributes\n",
    "16 - emp.var.rate: employment variation rate - quarterly indicator (numeric)\n",
    "17 - cons.price.idx: consumer price index - monthly indicator (numeric)\n",
    "18 - cons.conf.idx: consumer confidence index - monthly indicator (numeric)\n",
    "19 - euribor3m: euribor 3 month rate - daily indicator (numeric)\n",
    "20 - nr.employed: number of employees - quarterly indicator (numeric)\n",
    "\n",
    "Output variable (desired target):\n",
    "21 - y - has the client subscribed a term deposit? (binary: 'yes','no')"
   ]
  },
  {
   "cell_type": "code",
   "execution_count": 105,
   "id": "1fb3fe71",
   "metadata": {},
   "outputs": [
    {
     "name": "stdout",
     "output_type": "stream",
     "text": [
      "<class 'pandas.core.frame.DataFrame'>\n",
      "RangeIndex: 41188 entries, 0 to 41187\n",
      "Data columns (total 20 columns):\n",
      " #   Column         Non-Null Count  Dtype  \n",
      "---  ------         --------------  -----  \n",
      " 0   age            41188 non-null  int64  \n",
      " 1   job            41188 non-null  object \n",
      " 2   marital        41188 non-null  object \n",
      " 3   education      41188 non-null  object \n",
      " 4   default        41188 non-null  object \n",
      " 5   housing        41188 non-null  object \n",
      " 6   loan           41188 non-null  object \n",
      " 7   contact        41188 non-null  object \n",
      " 8   month          41188 non-null  object \n",
      " 9   day_of_week    41188 non-null  object \n",
      " 10  campaign       41188 non-null  int64  \n",
      " 11  pdays          41188 non-null  int64  \n",
      " 12  previous       41188 non-null  int64  \n",
      " 13  poutcome       41188 non-null  object \n",
      " 14  empvarrate     41188 non-null  float64\n",
      " 15  conspriceidx   41188 non-null  float64\n",
      " 16  cons.conf.idx  41188 non-null  float64\n",
      " 17  euribor3m      41188 non-null  float64\n",
      " 18  nr.employed    41188 non-null  float64\n",
      " 19  y              41188 non-null  object \n",
      "dtypes: float64(5), int64(4), object(11)\n",
      "memory usage: 6.3+ MB\n"
     ]
    }
   ],
   "source": [
    "data.info()"
   ]
  },
  {
   "cell_type": "code",
   "execution_count": 106,
   "id": "4e0f8026",
   "metadata": {},
   "outputs": [
    {
     "data": {
      "text/plain": [
       "age              0\n",
       "job              0\n",
       "marital          0\n",
       "education        0\n",
       "default          0\n",
       "housing          0\n",
       "loan             0\n",
       "contact          0\n",
       "month            0\n",
       "day_of_week      0\n",
       "campaign         0\n",
       "pdays            0\n",
       "previous         0\n",
       "poutcome         0\n",
       "empvarrate       0\n",
       "conspriceidx     0\n",
       "cons.conf.idx    0\n",
       "euribor3m        0\n",
       "nr.employed      0\n",
       "y                0\n",
       "dtype: int64"
      ]
     },
     "execution_count": 106,
     "metadata": {},
     "output_type": "execute_result"
    }
   ],
   "source": [
    "data.isnull().sum()"
   ]
  },
  {
   "cell_type": "code",
   "execution_count": 107,
   "id": "79f1135d",
   "metadata": {},
   "outputs": [
    {
     "data": {
      "text/html": [
       "<div>\n",
       "<style scoped>\n",
       "    .dataframe tbody tr th:only-of-type {\n",
       "        vertical-align: middle;\n",
       "    }\n",
       "\n",
       "    .dataframe tbody tr th {\n",
       "        vertical-align: top;\n",
       "    }\n",
       "\n",
       "    .dataframe thead th {\n",
       "        text-align: right;\n",
       "    }\n",
       "</style>\n",
       "<table border=\"1\" class=\"dataframe\">\n",
       "  <thead>\n",
       "    <tr style=\"text-align: right;\">\n",
       "      <th></th>\n",
       "      <th>age</th>\n",
       "      <th>campaign</th>\n",
       "      <th>pdays</th>\n",
       "      <th>previous</th>\n",
       "      <th>empvarrate</th>\n",
       "      <th>conspriceidx</th>\n",
       "      <th>cons.conf.idx</th>\n",
       "      <th>euribor3m</th>\n",
       "      <th>nr.employed</th>\n",
       "    </tr>\n",
       "  </thead>\n",
       "  <tbody>\n",
       "    <tr>\n",
       "      <th>count</th>\n",
       "      <td>41188.00000</td>\n",
       "      <td>41188.000000</td>\n",
       "      <td>41188.000000</td>\n",
       "      <td>41188.000000</td>\n",
       "      <td>41188.000000</td>\n",
       "      <td>41188.000000</td>\n",
       "      <td>41188.000000</td>\n",
       "      <td>41188.000000</td>\n",
       "      <td>41188.000000</td>\n",
       "    </tr>\n",
       "    <tr>\n",
       "      <th>mean</th>\n",
       "      <td>40.02406</td>\n",
       "      <td>2.567593</td>\n",
       "      <td>962.475454</td>\n",
       "      <td>0.172963</td>\n",
       "      <td>0.081886</td>\n",
       "      <td>93.575664</td>\n",
       "      <td>-40.502600</td>\n",
       "      <td>3.621291</td>\n",
       "      <td>5167.035911</td>\n",
       "    </tr>\n",
       "    <tr>\n",
       "      <th>std</th>\n",
       "      <td>10.42125</td>\n",
       "      <td>2.770014</td>\n",
       "      <td>186.910907</td>\n",
       "      <td>0.494901</td>\n",
       "      <td>1.570960</td>\n",
       "      <td>0.578840</td>\n",
       "      <td>4.628198</td>\n",
       "      <td>1.734447</td>\n",
       "      <td>72.251528</td>\n",
       "    </tr>\n",
       "    <tr>\n",
       "      <th>min</th>\n",
       "      <td>17.00000</td>\n",
       "      <td>1.000000</td>\n",
       "      <td>0.000000</td>\n",
       "      <td>0.000000</td>\n",
       "      <td>-3.400000</td>\n",
       "      <td>92.201000</td>\n",
       "      <td>-50.800000</td>\n",
       "      <td>0.634000</td>\n",
       "      <td>4963.600000</td>\n",
       "    </tr>\n",
       "    <tr>\n",
       "      <th>25%</th>\n",
       "      <td>32.00000</td>\n",
       "      <td>1.000000</td>\n",
       "      <td>999.000000</td>\n",
       "      <td>0.000000</td>\n",
       "      <td>-1.800000</td>\n",
       "      <td>93.075000</td>\n",
       "      <td>-42.700000</td>\n",
       "      <td>1.344000</td>\n",
       "      <td>5099.100000</td>\n",
       "    </tr>\n",
       "    <tr>\n",
       "      <th>50%</th>\n",
       "      <td>38.00000</td>\n",
       "      <td>2.000000</td>\n",
       "      <td>999.000000</td>\n",
       "      <td>0.000000</td>\n",
       "      <td>1.100000</td>\n",
       "      <td>93.749000</td>\n",
       "      <td>-41.800000</td>\n",
       "      <td>4.857000</td>\n",
       "      <td>5191.000000</td>\n",
       "    </tr>\n",
       "    <tr>\n",
       "      <th>75%</th>\n",
       "      <td>47.00000</td>\n",
       "      <td>3.000000</td>\n",
       "      <td>999.000000</td>\n",
       "      <td>0.000000</td>\n",
       "      <td>1.400000</td>\n",
       "      <td>93.994000</td>\n",
       "      <td>-36.400000</td>\n",
       "      <td>4.961000</td>\n",
       "      <td>5228.100000</td>\n",
       "    </tr>\n",
       "    <tr>\n",
       "      <th>max</th>\n",
       "      <td>98.00000</td>\n",
       "      <td>56.000000</td>\n",
       "      <td>999.000000</td>\n",
       "      <td>7.000000</td>\n",
       "      <td>1.400000</td>\n",
       "      <td>94.767000</td>\n",
       "      <td>-26.900000</td>\n",
       "      <td>5.045000</td>\n",
       "      <td>5228.100000</td>\n",
       "    </tr>\n",
       "  </tbody>\n",
       "</table>\n",
       "</div>"
      ],
      "text/plain": [
       "               age      campaign         pdays      previous    empvarrate  \\\n",
       "count  41188.00000  41188.000000  41188.000000  41188.000000  41188.000000   \n",
       "mean      40.02406      2.567593    962.475454      0.172963      0.081886   \n",
       "std       10.42125      2.770014    186.910907      0.494901      1.570960   \n",
       "min       17.00000      1.000000      0.000000      0.000000     -3.400000   \n",
       "25%       32.00000      1.000000    999.000000      0.000000     -1.800000   \n",
       "50%       38.00000      2.000000    999.000000      0.000000      1.100000   \n",
       "75%       47.00000      3.000000    999.000000      0.000000      1.400000   \n",
       "max       98.00000     56.000000    999.000000      7.000000      1.400000   \n",
       "\n",
       "       conspriceidx  cons.conf.idx     euribor3m   nr.employed  \n",
       "count  41188.000000   41188.000000  41188.000000  41188.000000  \n",
       "mean      93.575664     -40.502600      3.621291   5167.035911  \n",
       "std        0.578840       4.628198      1.734447     72.251528  \n",
       "min       92.201000     -50.800000      0.634000   4963.600000  \n",
       "25%       93.075000     -42.700000      1.344000   5099.100000  \n",
       "50%       93.749000     -41.800000      4.857000   5191.000000  \n",
       "75%       93.994000     -36.400000      4.961000   5228.100000  \n",
       "max       94.767000     -26.900000      5.045000   5228.100000  "
      ]
     },
     "execution_count": 107,
     "metadata": {},
     "output_type": "execute_result"
    }
   ],
   "source": [
    "data.describe()"
   ]
  },
  {
   "cell_type": "code",
   "execution_count": 108,
   "id": "f7e2ea59",
   "metadata": {},
   "outputs": [
    {
     "data": {
      "text/plain": [
       "['job',\n",
       " 'marital',\n",
       " 'education',\n",
       " 'default',\n",
       " 'housing',\n",
       " 'loan',\n",
       " 'contact',\n",
       " 'month',\n",
       " 'day_of_week',\n",
       " 'poutcome',\n",
       " 'y']"
      ]
     },
     "execution_count": 108,
     "metadata": {},
     "output_type": "execute_result"
    }
   ],
   "source": [
    "#categorical features.\n",
    "categorical_features=[feature for feature in data.columns if ((data[feature].dtypes=='O') & (feature not in ['deposit']))]\n",
    "categorical_features"
   ]
  },
  {
   "cell_type": "code",
   "execution_count": 109,
   "id": "efc91cb7",
   "metadata": {},
   "outputs": [
    {
     "name": "stdout",
     "output_type": "stream",
     "text": [
      "The feature is job and number of categories are 12\n",
      "The feature is marital and number of categories are 4\n",
      "The feature is education and number of categories are 8\n",
      "The feature is default and number of categories are 3\n",
      "The feature is housing and number of categories are 3\n",
      "The feature is loan and number of categories are 3\n",
      "The feature is contact and number of categories are 2\n",
      "The feature is month and number of categories are 10\n",
      "The feature is day_of_week and number of categories are 5\n",
      "The feature is poutcome and number of categories are 3\n",
      "The feature is y and number of categories are 2\n"
     ]
    }
   ],
   "source": [
    "for feature in categorical_features:\n",
    "    print('The feature is {} and number of categories are {}'.format(feature,len(data[feature].unique())))"
   ]
  },
  {
   "cell_type": "markdown",
   "id": "7799255c",
   "metadata": {},
   "source": [
    "Feature job and month have highest number of categorical values."
   ]
  },
  {
   "cell_type": "code",
   "execution_count": 110,
   "id": "d8e80cbb",
   "metadata": {},
   "outputs": [
    {
     "data": {
      "text/plain": [
       "<AxesSubplot:xlabel='y', ylabel='count'>"
      ]
     },
     "execution_count": 110,
     "metadata": {},
     "output_type": "execute_result"
    },
    {
     "data": {
      "image/png": "[encoded data removed]",
      "text/plain": [
       "<Figure size 432x288 with 1 Axes>"
      ]
     },
     "metadata": {
      "needs_background": "light"
     },
     "output_type": "display_data"
    }
   ],
   "source": [
    "sns.countplot(x='y',data=data)"
   ]
  },
  {
   "cell_type": "raw",
   "id": "c01441c9",
   "metadata": {},
   "source": [
    "Data is imbalanced, so balancing of data set is done by making multiple copies of same data having \"YES\" as output."
   ]
  },
  {
   "cell_type": "code",
   "execution_count": 111,
   "id": "183141f8",
   "metadata": {},
   "outputs": [],
   "source": [
    "d1=data.copy()\n",
    "d2=d1[d1.y=='yes']\n",
    "d1=pd.concat([d1, d2])\n",
    "d1=pd.concat([d1, d2])\n",
    "d1=pd.concat([d1, d2])\n",
    "d1=pd.concat([d1, d2])\n",
    "d1=pd.concat([d1, d2])\n",
    "d1=pd.concat([d1, d2])\n",
    "d1=pd.concat([d1, d2])\n",
    "data=d1"
   ]
  },
  {
   "cell_type": "code",
   "execution_count": 112,
   "id": "814e9935",
   "metadata": {},
   "outputs": [
    {
     "data": {
      "text/plain": [
       "<AxesSubplot:xlabel='y', ylabel='count'>"
      ]
     },
     "execution_count": 112,
     "metadata": {},
     "output_type": "execute_result"
    },
    {
     "data": {
      "image/png": "[encoded data removed]",
      "text/plain": [
       "<Figure size 432x288 with 1 Axes>"
      ]
     },
     "metadata": {
      "needs_background": "light"
     },
     "output_type": "display_data"
    }
   ],
   "source": [
    "sns.countplot(x='y',data=data)"
   ]
  },
  {
   "cell_type": "raw",
   "id": "4dc21918",
   "metadata": {},
   "source": [
    "Now the data looks much more balanced"
   ]
  },
  {
   "cell_type": "markdown",
   "id": "e958f0f1",
   "metadata": {},
   "source": [
    "# Analysing the data distribution by plotting graphs for numerical fields"
   ]
  },
  {
   "cell_type": "code",
   "execution_count": 113,
   "id": "b9068b1a",
   "metadata": {},
   "outputs": [
    {
     "data": {
      "image/png": "[encoded data removed]",
      "text/plain": [
       "<Figure size 1440x720 with 9 Axes>"
      ]
     },
     "metadata": {
      "needs_background": "light"
     },
     "output_type": "display_data"
    }
   ],
   "source": [
    "data.hist(figsize= [20,10])    # Histogram of all numeric columns\n",
    "plt.show()"
   ]
  },
  {
   "cell_type": "markdown",
   "id": "efde25d0",
   "metadata": {},
   "source": [
    "We can see that data is mot evenly distributed so we need to standardize."
   ]
  },
  {
   "cell_type": "markdown",
   "id": "49f2d520",
   "metadata": {},
   "source": [
    "# Finding categorical feature distribution"
   ]
  },
  {
   "cell_type": "code",
   "execution_count": 114,
   "id": "99970d51",
   "metadata": {},
   "outputs": [
    {
     "data": {
      "image/png": "[encoded data removed]",
      "text/plain": [
       "<Figure size 1080x5760 with 11 Axes>"
      ]
     },
     "metadata": {},
     "output_type": "display_data"
    }
   ],
   "source": [
    "#check count based on categorical features\n",
    "plt.figure(figsize=(15,80), facecolor='white')\n",
    "plotnumber =1\n",
    "for categorical_feature in categorical_features:\n",
    "    ax = plt.subplot(12,3,plotnumber)\n",
    "    sns.countplot(y=categorical_feature,data=data)\n",
    "    plt.xlabel(categorical_feature)\n",
    "    plt.title(categorical_feature)\n",
    "    plotnumber+=1\n",
    "plt.show()"
   ]
  },
  {
   "cell_type": "markdown",
   "id": "33a76d3f",
   "metadata": {},
   "source": [
    "client with job type as admin records are high in given dataset and housemaid are very less.\n",
    "\n",
    "client who married are high in records in given dataset and divorced are less.\n",
    "\n",
    "client whoes education background is university degree are in high numbers in given dataset.\n",
    "\n",
    "defualt feature seems to be does not play importand role as it has value of no at high ratio to value yes which can drop.\n",
    "\n",
    "data in month of may is high and less in dec."
   ]
  },
  {
   "cell_type": "code",
   "execution_count": 159,
   "id": "062febf0",
   "metadata": {},
   "outputs": [
    {
     "data": {
      "text/html": [
       "<div>\n",
       "<style scoped>\n",
       "    .dataframe tbody tr th:only-of-type {\n",
       "        vertical-align: middle;\n",
       "    }\n",
       "\n",
       "    .dataframe tbody tr th {\n",
       "        vertical-align: top;\n",
       "    }\n",
       "\n",
       "    .dataframe thead th {\n",
       "        text-align: right;\n",
       "    }\n",
       "</style>\n",
       "<table border=\"1\" class=\"dataframe\">\n",
       "  <thead>\n",
       "    <tr style=\"text-align: right;\">\n",
       "      <th></th>\n",
       "      <th>age</th>\n",
       "      <th>default</th>\n",
       "      <th>housing</th>\n",
       "      <th>loan</th>\n",
       "      <th>campaign</th>\n",
       "      <th>pdays</th>\n",
       "      <th>previous</th>\n",
       "      <th>poutcome</th>\n",
       "      <th>empvarrate</th>\n",
       "      <th>conspriceidx</th>\n",
       "      <th>cons.conf.idx</th>\n",
       "      <th>euribor3m</th>\n",
       "      <th>nr.employed</th>\n",
       "      <th>pdays2</th>\n",
       "    </tr>\n",
       "  </thead>\n",
       "  <tbody>\n",
       "    <tr>\n",
       "      <th>age</th>\n",
       "      <td>1.000000</td>\n",
       "      <td>-0.120728</td>\n",
       "      <td>-0.005610</td>\n",
       "      <td>0.001894</td>\n",
       "      <td>-0.004194</td>\n",
       "      <td>-0.065784</td>\n",
       "      <td>0.063335</td>\n",
       "      <td>0.032188</td>\n",
       "      <td>-0.052944</td>\n",
       "      <td>-0.019321</td>\n",
       "      <td>0.138258</td>\n",
       "      <td>-0.049467</td>\n",
       "      <td>-0.079147</td>\n",
       "      <td>0.061944</td>\n",
       "    </tr>\n",
       "    <tr>\n",
       "      <th>default</th>\n",
       "      <td>-0.120728</td>\n",
       "      <td>1.000000</td>\n",
       "      <td>-0.019694</td>\n",
       "      <td>-0.004783</td>\n",
       "      <td>-0.056152</td>\n",
       "      <td>-0.120479</td>\n",
       "      <td>0.131474</td>\n",
       "      <td>0.027865</td>\n",
       "      <td>-0.270982</td>\n",
       "      <td>-0.172065</td>\n",
       "      <td>0.006163</td>\n",
       "      <td>-0.269463</td>\n",
       "      <td>-0.261332</td>\n",
       "      <td>0.122454</td>\n",
       "    </tr>\n",
       "    <tr>\n",
       "      <th>housing</th>\n",
       "      <td>-0.005610</td>\n",
       "      <td>-0.019694</td>\n",
       "      <td>1.000000</td>\n",
       "      <td>0.040540</td>\n",
       "      <td>0.009662</td>\n",
       "      <td>0.015070</td>\n",
       "      <td>-0.018186</td>\n",
       "      <td>-0.001488</td>\n",
       "      <td>0.055806</td>\n",
       "      <td>0.063413</td>\n",
       "      <td>0.025244</td>\n",
       "      <td>0.057105</td>\n",
       "      <td>0.043724</td>\n",
       "      <td>-0.014500</td>\n",
       "    </tr>\n",
       "    <tr>\n",
       "      <th>loan</th>\n",
       "      <td>0.001894</td>\n",
       "      <td>-0.004783</td>\n",
       "      <td>0.040540</td>\n",
       "      <td>1.000000</td>\n",
       "      <td>-0.004475</td>\n",
       "      <td>0.008906</td>\n",
       "      <td>-0.001554</td>\n",
       "      <td>-0.004094</td>\n",
       "      <td>-0.008716</td>\n",
       "      <td>-0.007316</td>\n",
       "      <td>0.017715</td>\n",
       "      <td>-0.004961</td>\n",
       "      <td>-0.006866</td>\n",
       "      <td>-0.008060</td>\n",
       "    </tr>\n",
       "    <tr>\n",
       "      <th>campaign</th>\n",
       "      <td>-0.004194</td>\n",
       "      <td>-0.056152</td>\n",
       "      <td>0.009662</td>\n",
       "      <td>-0.004475</td>\n",
       "      <td>1.000000</td>\n",
       "      <td>0.092535</td>\n",
       "      <td>-0.101221</td>\n",
       "      <td>-0.015151</td>\n",
       "      <td>0.196213</td>\n",
       "      <td>0.134103</td>\n",
       "      <td>-0.030206</td>\n",
       "      <td>0.184681</td>\n",
       "      <td>0.186339</td>\n",
       "      <td>-0.092442</td>\n",
       "    </tr>\n",
       "    <tr>\n",
       "      <th>pdays</th>\n",
       "      <td>-0.065784</td>\n",
       "      <td>-0.120479</td>\n",
       "      <td>0.015070</td>\n",
       "      <td>0.008906</td>\n",
       "      <td>0.092535</td>\n",
       "      <td>1.000000</td>\n",
       "      <td>-0.703613</td>\n",
       "      <td>-0.662051</td>\n",
       "      <td>0.334133</td>\n",
       "      <td>0.047520</td>\n",
       "      <td>-0.156041</td>\n",
       "      <td>0.381571</td>\n",
       "      <td>0.462598</td>\n",
       "      <td>-0.986639</td>\n",
       "    </tr>\n",
       "    <tr>\n",
       "      <th>previous</th>\n",
       "      <td>0.063335</td>\n",
       "      <td>0.131474</td>\n",
       "      <td>-0.018186</td>\n",
       "      <td>-0.001554</td>\n",
       "      <td>-0.101221</td>\n",
       "      <td>-0.703613</td>\n",
       "      <td>1.000000</td>\n",
       "      <td>0.086761</td>\n",
       "      <td>-0.383516</td>\n",
       "      <td>-0.060013</td>\n",
       "      <td>0.077060</td>\n",
       "      <td>-0.450545</td>\n",
       "      <td>-0.524619</td>\n",
       "      <td>0.708369</td>\n",
       "    </tr>\n",
       "    <tr>\n",
       "      <th>poutcome</th>\n",
       "      <td>0.032188</td>\n",
       "      <td>0.027865</td>\n",
       "      <td>-0.001488</td>\n",
       "      <td>-0.004094</td>\n",
       "      <td>-0.015151</td>\n",
       "      <td>-0.662051</td>\n",
       "      <td>0.086761</td>\n",
       "      <td>1.000000</td>\n",
       "      <td>-0.005992</td>\n",
       "      <td>0.117778</td>\n",
       "      <td>0.125303</td>\n",
       "      <td>-0.034917</td>\n",
       "      <td>-0.110094</td>\n",
       "      <td>0.650044</td>\n",
       "    </tr>\n",
       "    <tr>\n",
       "      <th>empvarrate</th>\n",
       "      <td>-0.052944</td>\n",
       "      <td>-0.270982</td>\n",
       "      <td>0.055806</td>\n",
       "      <td>-0.008716</td>\n",
       "      <td>0.196213</td>\n",
       "      <td>0.334133</td>\n",
       "      <td>-0.383516</td>\n",
       "      <td>-0.005992</td>\n",
       "      <td>1.000000</td>\n",
       "      <td>0.719980</td>\n",
       "      <td>-0.065909</td>\n",
       "      <td>0.958520</td>\n",
       "      <td>0.868608</td>\n",
       "      <td>-0.334367</td>\n",
       "    </tr>\n",
       "    <tr>\n",
       "      <th>conspriceidx</th>\n",
       "      <td>-0.019321</td>\n",
       "      <td>-0.172065</td>\n",
       "      <td>0.063413</td>\n",
       "      <td>-0.007316</td>\n",
       "      <td>0.134103</td>\n",
       "      <td>0.047520</td>\n",
       "      <td>-0.060013</td>\n",
       "      <td>0.117778</td>\n",
       "      <td>0.719980</td>\n",
       "      <td>1.000000</td>\n",
       "      <td>-0.162567</td>\n",
       "      <td>0.570814</td>\n",
       "      <td>0.349286</td>\n",
       "      <td>-0.037191</td>\n",
       "    </tr>\n",
       "    <tr>\n",
       "      <th>cons.conf.idx</th>\n",
       "      <td>0.138258</td>\n",
       "      <td>0.006163</td>\n",
       "      <td>0.025244</td>\n",
       "      <td>0.017715</td>\n",
       "      <td>-0.030206</td>\n",
       "      <td>-0.156041</td>\n",
       "      <td>0.077060</td>\n",
       "      <td>0.125303</td>\n",
       "      <td>-0.065909</td>\n",
       "      <td>-0.162567</td>\n",
       "      <td>1.000000</td>\n",
       "      <td>0.041091</td>\n",
       "      <td>-0.090102</td>\n",
       "      <td>0.154317</td>\n",
       "    </tr>\n",
       "    <tr>\n",
       "      <th>euribor3m</th>\n",
       "      <td>-0.049467</td>\n",
       "      <td>-0.269463</td>\n",
       "      <td>0.057105</td>\n",
       "      <td>-0.004961</td>\n",
       "      <td>0.184681</td>\n",
       "      <td>0.381571</td>\n",
       "      <td>-0.450545</td>\n",
       "      <td>-0.034917</td>\n",
       "      <td>0.958520</td>\n",
       "      <td>0.570814</td>\n",
       "      <td>0.041091</td>\n",
       "      <td>1.000000</td>\n",
       "      <td>0.940997</td>\n",
       "      <td>-0.387339</td>\n",
       "    </tr>\n",
       "    <tr>\n",
       "      <th>nr.employed</th>\n",
       "      <td>-0.079147</td>\n",
       "      <td>-0.261332</td>\n",
       "      <td>0.043724</td>\n",
       "      <td>-0.006866</td>\n",
       "      <td>0.186339</td>\n",
       "      <td>0.462598</td>\n",
       "      <td>-0.524619</td>\n",
       "      <td>-0.110094</td>\n",
       "      <td>0.868608</td>\n",
       "      <td>0.349286</td>\n",
       "      <td>-0.090102</td>\n",
       "      <td>0.940997</td>\n",
       "      <td>1.000000</td>\n",
       "      <td>-0.472343</td>\n",
       "    </tr>\n",
       "    <tr>\n",
       "      <th>pdays2</th>\n",
       "      <td>0.061944</td>\n",
       "      <td>0.122454</td>\n",
       "      <td>-0.014500</td>\n",
       "      <td>-0.008060</td>\n",
       "      <td>-0.092442</td>\n",
       "      <td>-0.986639</td>\n",
       "      <td>0.708369</td>\n",
       "      <td>0.650044</td>\n",
       "      <td>-0.334367</td>\n",
       "      <td>-0.037191</td>\n",
       "      <td>0.154317</td>\n",
       "      <td>-0.387339</td>\n",
       "      <td>-0.472343</td>\n",
       "      <td>1.000000</td>\n",
       "    </tr>\n",
       "  </tbody>\n",
       "</table>\n",
       "</div>"
      ],
      "text/plain": [
       "                    age   default   housing      loan  campaign     pdays  \\\n",
       "age            1.000000 -0.120728 -0.005610  0.001894 -0.004194 -0.065784   \n",
       "default       -0.120728  1.000000 -0.019694 -0.004783 -0.056152 -0.120479   \n",
       "housing       -0.005610 -0.019694  1.000000  0.040540  0.009662  0.015070   \n",
       "loan           0.001894 -0.004783  0.040540  1.000000 -0.004475  0.008906   \n",
       "campaign      -0.004194 -0.056152  0.009662 -0.004475  1.000000  0.092535   \n",
       "pdays         -0.065784 -0.120479  0.015070  0.008906  0.092535  1.000000   \n",
       "previous       0.063335  0.131474 -0.018186 -0.001554 -0.101221 -0.703613   \n",
       "poutcome       0.032188  0.027865 -0.001488 -0.004094 -0.015151 -0.662051   \n",
       "empvarrate    -0.052944 -0.270982  0.055806 -0.008716  0.196213  0.334133   \n",
       "conspriceidx  -0.019321 -0.172065  0.063413 -0.007316  0.134103  0.047520   \n",
       "cons.conf.idx  0.138258  0.006163  0.025244  0.017715 -0.030206 -0.156041   \n",
       "euribor3m     -0.049467 -0.269463  0.057105 -0.004961  0.184681  0.381571   \n",
       "nr.employed   -0.079147 -0.261332  0.043724 -0.006866  0.186339  0.462598   \n",
       "pdays2         0.061944  0.122454 -0.014500 -0.008060 -0.092442 -0.986639   \n",
       "\n",
       "               previous  poutcome  empvarrate  conspriceidx  cons.conf.idx  \\\n",
       "age            0.063335  0.032188   -0.052944     -0.019321       0.138258   \n",
       "default        0.131474  0.027865   -0.270982     -0.172065       0.006163   \n",
       "housing       -0.018186 -0.001488    0.055806      0.063413       0.025244   \n",
       "loan          -0.001554 -0.004094   -0.008716     -0.007316       0.017715   \n",
       "campaign      -0.101221 -0.015151    0.196213      0.134103      -0.030206   \n",
       "pdays         -0.703613 -0.662051    0.334133      0.047520      -0.156041   \n",
       "previous       1.000000  0.086761   -0.383516     -0.060013       0.077060   \n",
       "poutcome       0.086761  1.000000   -0.005992      0.117778       0.125303   \n",
       "empvarrate    -0.383516 -0.005992    1.000000      0.719980      -0.065909   \n",
       "conspriceidx  -0.060013  0.117778    0.719980      1.000000      -0.162567   \n",
       "cons.conf.idx  0.077060  0.125303   -0.065909     -0.162567       1.000000   \n",
       "euribor3m     -0.450545 -0.034917    0.958520      0.570814       0.041091   \n",
       "nr.employed   -0.524619 -0.110094    0.868608      0.349286      -0.090102   \n",
       "pdays2         0.708369  0.650044   -0.334367     -0.037191       0.154317   \n",
       "\n",
       "               euribor3m  nr.employed    pdays2  \n",
       "age            -0.049467    -0.079147  0.061944  \n",
       "default        -0.269463    -0.261332  0.122454  \n",
       "housing         0.057105     0.043724 -0.014500  \n",
       "loan           -0.004961    -0.006866 -0.008060  \n",
       "campaign        0.184681     0.186339 -0.092442  \n",
       "pdays           0.381571     0.462598 -0.986639  \n",
       "previous       -0.450545    -0.524619  0.708369  \n",
       "poutcome       -0.034917    -0.110094  0.650044  \n",
       "empvarrate      0.958520     0.868608 -0.334367  \n",
       "conspriceidx    0.570814     0.349286 -0.037191  \n",
       "cons.conf.idx   0.041091    -0.090102  0.154317  \n",
       "euribor3m       1.000000     0.940997 -0.387339  \n",
       "nr.employed     0.940997     1.000000 -0.472343  \n",
       "pdays2         -0.387339    -0.472343  1.000000  "
      ]
     },
     "execution_count": 159,
     "metadata": {},
     "output_type": "execute_result"
    }
   ],
   "source": [
    "data.corr()"
   ]
  },
  {
   "cell_type": "code",
   "execution_count": 115,
   "id": "2a5665bd",
   "metadata": {},
   "outputs": [
    {
     "data": {
      "text/plain": [
       "<AxesSubplot:>"
      ]
     },
     "execution_count": 115,
     "metadata": {},
     "output_type": "execute_result"
    },
    {
     "data": {
      "image/png": "[encoded data removed]",
      "text/plain": [
       "<Figure size 1080x504 with 2 Axes>"
      ]
     },
     "metadata": {
      "needs_background": "light"
     },
     "output_type": "display_data"
    }
   ],
   "source": [
    "## Checking for correlation\n",
    "cor_mat=data.corr()\n",
    "fig = plt.figure(figsize=(15,7))\n",
    "sns.heatmap(cor_mat,annot=True)"
   ]
  },
  {
   "cell_type": "raw",
   "id": "a40b2888",
   "metadata": {},
   "source": [
    "For standardizing data:\n",
    "Splitting pdays feature into 2 features(i,e pdays and pdays2)"
   ]
  },
  {
   "cell_type": "code",
   "execution_count": 116,
   "id": "6432aec0",
   "metadata": {},
   "outputs": [
    {
     "data": {
      "text/html": [
       "<div>\n",
       "<style scoped>\n",
       "    .dataframe tbody tr th:only-of-type {\n",
       "        vertical-align: middle;\n",
       "    }\n",
       "\n",
       "    .dataframe tbody tr th {\n",
       "        vertical-align: top;\n",
       "    }\n",
       "\n",
       "    .dataframe thead th {\n",
       "        text-align: right;\n",
       "    }\n",
       "</style>\n",
       "<table border=\"1\" class=\"dataframe\">\n",
       "  <thead>\n",
       "    <tr style=\"text-align: right;\">\n",
       "      <th></th>\n",
       "      <th>age</th>\n",
       "      <th>job</th>\n",
       "      <th>marital</th>\n",
       "      <th>education</th>\n",
       "      <th>default</th>\n",
       "      <th>housing</th>\n",
       "      <th>loan</th>\n",
       "      <th>contact</th>\n",
       "      <th>month</th>\n",
       "      <th>day_of_week</th>\n",
       "      <th>...</th>\n",
       "      <th>pdays</th>\n",
       "      <th>previous</th>\n",
       "      <th>poutcome</th>\n",
       "      <th>empvarrate</th>\n",
       "      <th>conspriceidx</th>\n",
       "      <th>cons.conf.idx</th>\n",
       "      <th>euribor3m</th>\n",
       "      <th>nr.employed</th>\n",
       "      <th>y</th>\n",
       "      <th>pdays2</th>\n",
       "    </tr>\n",
       "  </thead>\n",
       "  <tbody>\n",
       "    <tr>\n",
       "      <th>0</th>\n",
       "      <td>56</td>\n",
       "      <td>housemaid</td>\n",
       "      <td>married</td>\n",
       "      <td>basic.4y</td>\n",
       "      <td>no</td>\n",
       "      <td>no</td>\n",
       "      <td>no</td>\n",
       "      <td>telephone</td>\n",
       "      <td>may</td>\n",
       "      <td>mon</td>\n",
       "      <td>...</td>\n",
       "      <td>30</td>\n",
       "      <td>0</td>\n",
       "      <td>nonexistent</td>\n",
       "      <td>1.1</td>\n",
       "      <td>93.994</td>\n",
       "      <td>-36.4</td>\n",
       "      <td>4.857</td>\n",
       "      <td>5191.0</td>\n",
       "      <td>no</td>\n",
       "      <td>0</td>\n",
       "    </tr>\n",
       "    <tr>\n",
       "      <th>1</th>\n",
       "      <td>57</td>\n",
       "      <td>services</td>\n",
       "      <td>married</td>\n",
       "      <td>high.school</td>\n",
       "      <td>unknown</td>\n",
       "      <td>no</td>\n",
       "      <td>no</td>\n",
       "      <td>telephone</td>\n",
       "      <td>may</td>\n",
       "      <td>mon</td>\n",
       "      <td>...</td>\n",
       "      <td>30</td>\n",
       "      <td>0</td>\n",
       "      <td>nonexistent</td>\n",
       "      <td>1.1</td>\n",
       "      <td>93.994</td>\n",
       "      <td>-36.4</td>\n",
       "      <td>4.857</td>\n",
       "      <td>5191.0</td>\n",
       "      <td>no</td>\n",
       "      <td>0</td>\n",
       "    </tr>\n",
       "    <tr>\n",
       "      <th>2</th>\n",
       "      <td>37</td>\n",
       "      <td>services</td>\n",
       "      <td>married</td>\n",
       "      <td>high.school</td>\n",
       "      <td>no</td>\n",
       "      <td>yes</td>\n",
       "      <td>no</td>\n",
       "      <td>telephone</td>\n",
       "      <td>may</td>\n",
       "      <td>mon</td>\n",
       "      <td>...</td>\n",
       "      <td>30</td>\n",
       "      <td>0</td>\n",
       "      <td>nonexistent</td>\n",
       "      <td>1.1</td>\n",
       "      <td>93.994</td>\n",
       "      <td>-36.4</td>\n",
       "      <td>4.857</td>\n",
       "      <td>5191.0</td>\n",
       "      <td>no</td>\n",
       "      <td>0</td>\n",
       "    </tr>\n",
       "    <tr>\n",
       "      <th>3</th>\n",
       "      <td>40</td>\n",
       "      <td>admin.</td>\n",
       "      <td>married</td>\n",
       "      <td>basic.6y</td>\n",
       "      <td>no</td>\n",
       "      <td>no</td>\n",
       "      <td>no</td>\n",
       "      <td>telephone</td>\n",
       "      <td>may</td>\n",
       "      <td>mon</td>\n",
       "      <td>...</td>\n",
       "      <td>30</td>\n",
       "      <td>0</td>\n",
       "      <td>nonexistent</td>\n",
       "      <td>1.1</td>\n",
       "      <td>93.994</td>\n",
       "      <td>-36.4</td>\n",
       "      <td>4.857</td>\n",
       "      <td>5191.0</td>\n",
       "      <td>no</td>\n",
       "      <td>0</td>\n",
       "    </tr>\n",
       "    <tr>\n",
       "      <th>4</th>\n",
       "      <td>56</td>\n",
       "      <td>services</td>\n",
       "      <td>married</td>\n",
       "      <td>high.school</td>\n",
       "      <td>no</td>\n",
       "      <td>no</td>\n",
       "      <td>yes</td>\n",
       "      <td>telephone</td>\n",
       "      <td>may</td>\n",
       "      <td>mon</td>\n",
       "      <td>...</td>\n",
       "      <td>30</td>\n",
       "      <td>0</td>\n",
       "      <td>nonexistent</td>\n",
       "      <td>1.1</td>\n",
       "      <td>93.994</td>\n",
       "      <td>-36.4</td>\n",
       "      <td>4.857</td>\n",
       "      <td>5191.0</td>\n",
       "      <td>no</td>\n",
       "      <td>0</td>\n",
       "    </tr>\n",
       "  </tbody>\n",
       "</table>\n",
       "<p>5 rows × 21 columns</p>\n",
       "</div>"
      ],
      "text/plain": [
       "   age        job  marital    education  default housing loan    contact  \\\n",
       "0   56  housemaid  married     basic.4y       no      no   no  telephone   \n",
       "1   57   services  married  high.school  unknown      no   no  telephone   \n",
       "2   37   services  married  high.school       no     yes   no  telephone   \n",
       "3   40     admin.  married     basic.6y       no      no   no  telephone   \n",
       "4   56   services  married  high.school       no      no  yes  telephone   \n",
       "\n",
       "  month day_of_week  ...  pdays  previous     poutcome empvarrate  \\\n",
       "0   may         mon  ...     30         0  nonexistent        1.1   \n",
       "1   may         mon  ...     30         0  nonexistent        1.1   \n",
       "2   may         mon  ...     30         0  nonexistent        1.1   \n",
       "3   may         mon  ...     30         0  nonexistent        1.1   \n",
       "4   may         mon  ...     30         0  nonexistent        1.1   \n",
       "\n",
       "   conspriceidx  cons.conf.idx  euribor3m  nr.employed   y pdays2  \n",
       "0        93.994          -36.4      4.857       5191.0  no      0  \n",
       "1        93.994          -36.4      4.857       5191.0  no      0  \n",
       "2        93.994          -36.4      4.857       5191.0  no      0  \n",
       "3        93.994          -36.4      4.857       5191.0  no      0  \n",
       "4        93.994          -36.4      4.857       5191.0  no      0  \n",
       "\n",
       "[5 rows x 21 columns]"
      ]
     },
     "execution_count": 116,
     "metadata": {},
     "output_type": "execute_result"
    }
   ],
   "source": [
    "#creating a new column named \"pdays2\" based on the value in \"pdays\" column \n",
    "\n",
    "def function (row):\n",
    "    if(row['pdays']==999):\n",
    "        return 0;\n",
    "    return 1;\n",
    "data['pdays2']=data.apply(lambda row: function(row),axis=1)\n",
    "#changing the value 999 in pdays column to  value 30 \n",
    "\n",
    "def function1 (row):\n",
    "    if(row['pdays']==999):\n",
    "        return 30;\n",
    "    return row['pdays'];\n",
    "data['pdays']=data.apply(lambda row: function1(row),axis=1)\n",
    "\n",
    "#changing the type of pdays to int\n",
    "\n",
    "data['pdays']=data['pdays'].astype(int)\n",
    "data.head()"
   ]
  },
  {
   "cell_type": "code",
   "execution_count": 117,
   "id": "c69cba69",
   "metadata": {},
   "outputs": [
    {
     "data": {
      "text/plain": [
       "Index(['age', 'job', 'marital', 'education', 'default', 'housing', 'loan',\n",
       "       'contact', 'month', 'day_of_week', 'campaign', 'pdays', 'previous',\n",
       "       'poutcome', 'empvarrate', 'conspriceidx', 'cons.conf.idx', 'euribor3m',\n",
       "       'nr.employed', 'y', 'pdays2'],\n",
       "      dtype='object')"
      ]
     },
     "execution_count": 117,
     "metadata": {},
     "output_type": "execute_result"
    }
   ],
   "source": [
    "data.columns"
   ]
  },
  {
   "cell_type": "code",
   "execution_count": 118,
   "id": "451489b6",
   "metadata": {},
   "outputs": [],
   "source": [
    "#standard scaling on numeric values\n",
    "idx_numeric=[0,10,11,12,14,15,16,17,18]\n",
    "scaler = MinMaxScaler()\n",
    "data[data.columns[idx_numeric]] = scaler.fit_transform(data[data.columns[idx_numeric]])"
   ]
  },
  {
   "cell_type": "code",
   "execution_count": 119,
   "id": "2310f037",
   "metadata": {},
   "outputs": [
    {
     "data": {
      "text/html": [
       "<div>\n",
       "<style scoped>\n",
       "    .dataframe tbody tr th:only-of-type {\n",
       "        vertical-align: middle;\n",
       "    }\n",
       "\n",
       "    .dataframe tbody tr th {\n",
       "        vertical-align: top;\n",
       "    }\n",
       "\n",
       "    .dataframe thead th {\n",
       "        text-align: right;\n",
       "    }\n",
       "</style>\n",
       "<table border=\"1\" class=\"dataframe\">\n",
       "  <thead>\n",
       "    <tr style=\"text-align: right;\">\n",
       "      <th></th>\n",
       "      <th>age</th>\n",
       "      <th>job</th>\n",
       "      <th>marital</th>\n",
       "      <th>education</th>\n",
       "      <th>default</th>\n",
       "      <th>housing</th>\n",
       "      <th>loan</th>\n",
       "      <th>contact</th>\n",
       "      <th>month</th>\n",
       "      <th>day_of_week</th>\n",
       "      <th>...</th>\n",
       "      <th>pdays</th>\n",
       "      <th>previous</th>\n",
       "      <th>poutcome</th>\n",
       "      <th>empvarrate</th>\n",
       "      <th>conspriceidx</th>\n",
       "      <th>cons.conf.idx</th>\n",
       "      <th>euribor3m</th>\n",
       "      <th>nr.employed</th>\n",
       "      <th>y</th>\n",
       "      <th>pdays2</th>\n",
       "    </tr>\n",
       "  </thead>\n",
       "  <tbody>\n",
       "    <tr>\n",
       "      <th>0</th>\n",
       "      <td>0.481481</td>\n",
       "      <td>housemaid</td>\n",
       "      <td>married</td>\n",
       "      <td>basic.4y</td>\n",
       "      <td>no</td>\n",
       "      <td>no</td>\n",
       "      <td>no</td>\n",
       "      <td>telephone</td>\n",
       "      <td>may</td>\n",
       "      <td>mon</td>\n",
       "      <td>...</td>\n",
       "      <td>1.0</td>\n",
       "      <td>0.0</td>\n",
       "      <td>nonexistent</td>\n",
       "      <td>0.9375</td>\n",
       "      <td>0.698753</td>\n",
       "      <td>0.60251</td>\n",
       "      <td>0.957379</td>\n",
       "      <td>0.859735</td>\n",
       "      <td>no</td>\n",
       "      <td>0</td>\n",
       "    </tr>\n",
       "    <tr>\n",
       "      <th>1</th>\n",
       "      <td>0.493827</td>\n",
       "      <td>services</td>\n",
       "      <td>married</td>\n",
       "      <td>high.school</td>\n",
       "      <td>unknown</td>\n",
       "      <td>no</td>\n",
       "      <td>no</td>\n",
       "      <td>telephone</td>\n",
       "      <td>may</td>\n",
       "      <td>mon</td>\n",
       "      <td>...</td>\n",
       "      <td>1.0</td>\n",
       "      <td>0.0</td>\n",
       "      <td>nonexistent</td>\n",
       "      <td>0.9375</td>\n",
       "      <td>0.698753</td>\n",
       "      <td>0.60251</td>\n",
       "      <td>0.957379</td>\n",
       "      <td>0.859735</td>\n",
       "      <td>no</td>\n",
       "      <td>0</td>\n",
       "    </tr>\n",
       "    <tr>\n",
       "      <th>2</th>\n",
       "      <td>0.246914</td>\n",
       "      <td>services</td>\n",
       "      <td>married</td>\n",
       "      <td>high.school</td>\n",
       "      <td>no</td>\n",
       "      <td>yes</td>\n",
       "      <td>no</td>\n",
       "      <td>telephone</td>\n",
       "      <td>may</td>\n",
       "      <td>mon</td>\n",
       "      <td>...</td>\n",
       "      <td>1.0</td>\n",
       "      <td>0.0</td>\n",
       "      <td>nonexistent</td>\n",
       "      <td>0.9375</td>\n",
       "      <td>0.698753</td>\n",
       "      <td>0.60251</td>\n",
       "      <td>0.957379</td>\n",
       "      <td>0.859735</td>\n",
       "      <td>no</td>\n",
       "      <td>0</td>\n",
       "    </tr>\n",
       "    <tr>\n",
       "      <th>3</th>\n",
       "      <td>0.283951</td>\n",
       "      <td>admin.</td>\n",
       "      <td>married</td>\n",
       "      <td>basic.6y</td>\n",
       "      <td>no</td>\n",
       "      <td>no</td>\n",
       "      <td>no</td>\n",
       "      <td>telephone</td>\n",
       "      <td>may</td>\n",
       "      <td>mon</td>\n",
       "      <td>...</td>\n",
       "      <td>1.0</td>\n",
       "      <td>0.0</td>\n",
       "      <td>nonexistent</td>\n",
       "      <td>0.9375</td>\n",
       "      <td>0.698753</td>\n",
       "      <td>0.60251</td>\n",
       "      <td>0.957379</td>\n",
       "      <td>0.859735</td>\n",
       "      <td>no</td>\n",
       "      <td>0</td>\n",
       "    </tr>\n",
       "    <tr>\n",
       "      <th>4</th>\n",
       "      <td>0.481481</td>\n",
       "      <td>services</td>\n",
       "      <td>married</td>\n",
       "      <td>high.school</td>\n",
       "      <td>no</td>\n",
       "      <td>no</td>\n",
       "      <td>yes</td>\n",
       "      <td>telephone</td>\n",
       "      <td>may</td>\n",
       "      <td>mon</td>\n",
       "      <td>...</td>\n",
       "      <td>1.0</td>\n",
       "      <td>0.0</td>\n",
       "      <td>nonexistent</td>\n",
       "      <td>0.9375</td>\n",
       "      <td>0.698753</td>\n",
       "      <td>0.60251</td>\n",
       "      <td>0.957379</td>\n",
       "      <td>0.859735</td>\n",
       "      <td>no</td>\n",
       "      <td>0</td>\n",
       "    </tr>\n",
       "  </tbody>\n",
       "</table>\n",
       "<p>5 rows × 21 columns</p>\n",
       "</div>"
      ],
      "text/plain": [
       "        age        job  marital    education  default housing loan    contact  \\\n",
       "0  0.481481  housemaid  married     basic.4y       no      no   no  telephone   \n",
       "1  0.493827   services  married  high.school  unknown      no   no  telephone   \n",
       "2  0.246914   services  married  high.school       no     yes   no  telephone   \n",
       "3  0.283951     admin.  married     basic.6y       no      no   no  telephone   \n",
       "4  0.481481   services  married  high.school       no      no  yes  telephone   \n",
       "\n",
       "  month day_of_week  ...  pdays  previous     poutcome empvarrate  \\\n",
       "0   may         mon  ...    1.0       0.0  nonexistent     0.9375   \n",
       "1   may         mon  ...    1.0       0.0  nonexistent     0.9375   \n",
       "2   may         mon  ...    1.0       0.0  nonexistent     0.9375   \n",
       "3   may         mon  ...    1.0       0.0  nonexistent     0.9375   \n",
       "4   may         mon  ...    1.0       0.0  nonexistent     0.9375   \n",
       "\n",
       "   conspriceidx  cons.conf.idx  euribor3m  nr.employed   y pdays2  \n",
       "0      0.698753        0.60251   0.957379     0.859735  no      0  \n",
       "1      0.698753        0.60251   0.957379     0.859735  no      0  \n",
       "2      0.698753        0.60251   0.957379     0.859735  no      0  \n",
       "3      0.698753        0.60251   0.957379     0.859735  no      0  \n",
       "4      0.698753        0.60251   0.957379     0.859735  no      0  \n",
       "\n",
       "[5 rows x 21 columns]"
      ]
     },
     "execution_count": 119,
     "metadata": {},
     "output_type": "execute_result"
    }
   ],
   "source": [
    "data.head()"
   ]
  },
  {
   "cell_type": "raw",
   "id": "f7814a63",
   "metadata": {},
   "source": [
    "Categorical variables can be either Ordinal or Nominal\n"
   ]
  },
  {
   "cell_type": "raw",
   "id": "224edc16",
   "metadata": {},
   "source": [
    "Handling Ordinal variables(poutcome, default, housing and loan are Ordinal variables)"
   ]
  },
  {
   "cell_type": "code",
   "execution_count": 120,
   "id": "74cc92ad",
   "metadata": {},
   "outputs": [],
   "source": [
    "data['poutcome'] = data['poutcome'].map({'failure': -1,'nonexistent': 0,'success': 1})\n",
    "data['default'] = data['default'].map({'yes': -1,'unknown': 0,'no': 1})\n",
    "data['housing'] = data['housing'].map({'yes': -1,'unknown': 0,'no': 1})\n",
    "data['loan'] = data['loan'].map({'yes': -1,'unknown': 0,'no': 1})"
   ]
  },
  {
   "cell_type": "raw",
   "id": "dc1f712b",
   "metadata": {},
   "source": [
    "Handling Nominal Variables(one hot encoding)"
   ]
  },
  {
   "cell_type": "markdown",
   "id": "2959cb4f",
   "metadata": {},
   "source": [
    "Job, maritial, education, contact, month, day_of_week are Nominal variables"
   ]
  },
  {
   "cell_type": "code",
   "execution_count": 121,
   "id": "2a55461c",
   "metadata": {},
   "outputs": [
    {
     "data": {
      "text/html": [
       "<div>\n",
       "<style scoped>\n",
       "    .dataframe tbody tr th:only-of-type {\n",
       "        vertical-align: middle;\n",
       "    }\n",
       "\n",
       "    .dataframe tbody tr th {\n",
       "        vertical-align: top;\n",
       "    }\n",
       "\n",
       "    .dataframe thead th {\n",
       "        text-align: right;\n",
       "    }\n",
       "</style>\n",
       "<table border=\"1\" class=\"dataframe\">\n",
       "  <thead>\n",
       "    <tr style=\"text-align: right;\">\n",
       "      <th></th>\n",
       "      <th>age</th>\n",
       "      <th>default</th>\n",
       "      <th>housing</th>\n",
       "      <th>loan</th>\n",
       "      <th>campaign</th>\n",
       "      <th>pdays</th>\n",
       "      <th>previous</th>\n",
       "      <th>poutcome</th>\n",
       "      <th>empvarrate</th>\n",
       "      <th>conspriceidx</th>\n",
       "      <th>...</th>\n",
       "      <th>month_mar</th>\n",
       "      <th>month_may</th>\n",
       "      <th>month_nov</th>\n",
       "      <th>month_oct</th>\n",
       "      <th>month_sep</th>\n",
       "      <th>day_of_week_fri</th>\n",
       "      <th>day_of_week_mon</th>\n",
       "      <th>day_of_week_thu</th>\n",
       "      <th>day_of_week_tue</th>\n",
       "      <th>day_of_week_wed</th>\n",
       "    </tr>\n",
       "  </thead>\n",
       "  <tbody>\n",
       "    <tr>\n",
       "      <th>0</th>\n",
       "      <td>0.481481</td>\n",
       "      <td>1</td>\n",
       "      <td>1</td>\n",
       "      <td>1</td>\n",
       "      <td>0.0</td>\n",
       "      <td>1.0</td>\n",
       "      <td>0.0</td>\n",
       "      <td>0</td>\n",
       "      <td>0.9375</td>\n",
       "      <td>0.698753</td>\n",
       "      <td>...</td>\n",
       "      <td>0</td>\n",
       "      <td>1</td>\n",
       "      <td>0</td>\n",
       "      <td>0</td>\n",
       "      <td>0</td>\n",
       "      <td>0</td>\n",
       "      <td>1</td>\n",
       "      <td>0</td>\n",
       "      <td>0</td>\n",
       "      <td>0</td>\n",
       "    </tr>\n",
       "    <tr>\n",
       "      <th>1</th>\n",
       "      <td>0.493827</td>\n",
       "      <td>0</td>\n",
       "      <td>1</td>\n",
       "      <td>1</td>\n",
       "      <td>0.0</td>\n",
       "      <td>1.0</td>\n",
       "      <td>0.0</td>\n",
       "      <td>0</td>\n",
       "      <td>0.9375</td>\n",
       "      <td>0.698753</td>\n",
       "      <td>...</td>\n",
       "      <td>0</td>\n",
       "      <td>1</td>\n",
       "      <td>0</td>\n",
       "      <td>0</td>\n",
       "      <td>0</td>\n",
       "      <td>0</td>\n",
       "      <td>1</td>\n",
       "      <td>0</td>\n",
       "      <td>0</td>\n",
       "      <td>0</td>\n",
       "    </tr>\n",
       "    <tr>\n",
       "      <th>2</th>\n",
       "      <td>0.246914</td>\n",
       "      <td>1</td>\n",
       "      <td>-1</td>\n",
       "      <td>1</td>\n",
       "      <td>0.0</td>\n",
       "      <td>1.0</td>\n",
       "      <td>0.0</td>\n",
       "      <td>0</td>\n",
       "      <td>0.9375</td>\n",
       "      <td>0.698753</td>\n",
       "      <td>...</td>\n",
       "      <td>0</td>\n",
       "      <td>1</td>\n",
       "      <td>0</td>\n",
       "      <td>0</td>\n",
       "      <td>0</td>\n",
       "      <td>0</td>\n",
       "      <td>1</td>\n",
       "      <td>0</td>\n",
       "      <td>0</td>\n",
       "      <td>0</td>\n",
       "    </tr>\n",
       "    <tr>\n",
       "      <th>3</th>\n",
       "      <td>0.283951</td>\n",
       "      <td>1</td>\n",
       "      <td>1</td>\n",
       "      <td>1</td>\n",
       "      <td>0.0</td>\n",
       "      <td>1.0</td>\n",
       "      <td>0.0</td>\n",
       "      <td>0</td>\n",
       "      <td>0.9375</td>\n",
       "      <td>0.698753</td>\n",
       "      <td>...</td>\n",
       "      <td>0</td>\n",
       "      <td>1</td>\n",
       "      <td>0</td>\n",
       "      <td>0</td>\n",
       "      <td>0</td>\n",
       "      <td>0</td>\n",
       "      <td>1</td>\n",
       "      <td>0</td>\n",
       "      <td>0</td>\n",
       "      <td>0</td>\n",
       "    </tr>\n",
       "    <tr>\n",
       "      <th>4</th>\n",
       "      <td>0.481481</td>\n",
       "      <td>1</td>\n",
       "      <td>1</td>\n",
       "      <td>-1</td>\n",
       "      <td>0.0</td>\n",
       "      <td>1.0</td>\n",
       "      <td>0.0</td>\n",
       "      <td>0</td>\n",
       "      <td>0.9375</td>\n",
       "      <td>0.698753</td>\n",
       "      <td>...</td>\n",
       "      <td>0</td>\n",
       "      <td>1</td>\n",
       "      <td>0</td>\n",
       "      <td>0</td>\n",
       "      <td>0</td>\n",
       "      <td>0</td>\n",
       "      <td>1</td>\n",
       "      <td>0</td>\n",
       "      <td>0</td>\n",
       "      <td>0</td>\n",
       "    </tr>\n",
       "  </tbody>\n",
       "</table>\n",
       "<p>5 rows × 56 columns</p>\n",
       "</div>"
      ],
      "text/plain": [
       "        age  default  housing  loan  campaign  pdays  previous  poutcome  \\\n",
       "0  0.481481        1        1     1       0.0    1.0       0.0         0   \n",
       "1  0.493827        0        1     1       0.0    1.0       0.0         0   \n",
       "2  0.246914        1       -1     1       0.0    1.0       0.0         0   \n",
       "3  0.283951        1        1     1       0.0    1.0       0.0         0   \n",
       "4  0.481481        1        1    -1       0.0    1.0       0.0         0   \n",
       "\n",
       "   empvarrate  conspriceidx  ...  month_mar  month_may  month_nov  month_oct  \\\n",
       "0      0.9375      0.698753  ...          0          1          0          0   \n",
       "1      0.9375      0.698753  ...          0          1          0          0   \n",
       "2      0.9375      0.698753  ...          0          1          0          0   \n",
       "3      0.9375      0.698753  ...          0          1          0          0   \n",
       "4      0.9375      0.698753  ...          0          1          0          0   \n",
       "\n",
       "   month_sep  day_of_week_fri  day_of_week_mon  day_of_week_thu  \\\n",
       "0          0                0                1                0   \n",
       "1          0                0                1                0   \n",
       "2          0                0                1                0   \n",
       "3          0                0                1                0   \n",
       "4          0                0                1                0   \n",
       "\n",
       "   day_of_week_tue  day_of_week_wed  \n",
       "0                0                0  \n",
       "1                0                0  \n",
       "2                0                0  \n",
       "3                0                0  \n",
       "4                0                0  \n",
       "\n",
       "[5 rows x 56 columns]"
      ]
     },
     "execution_count": 121,
     "metadata": {},
     "output_type": "execute_result"
    }
   ],
   "source": [
    "# One hot encoding of nominal varibles\n",
    "nominal = ['job','marital','education','contact','month','day_of_week']\n",
    "dataProcessed = pd.get_dummies(data,columns=nominal)\n",
    "dataProcessed['y']=dataProcessed['y'].map({'yes': 1,'no': 0})\n",
    "dataProcessed.head()"
   ]
  },
  {
   "cell_type": "code",
   "execution_count": 122,
   "id": "a7f9da9d",
   "metadata": {},
   "outputs": [
    {
     "data": {
      "text/plain": [
       "Index(['age', 'default', 'housing', 'loan', 'campaign', 'pdays', 'previous',\n",
       "       'poutcome', 'empvarrate', 'conspriceidx', 'cons.conf.idx', 'euribor3m',\n",
       "       'nr.employed', 'y', 'pdays2', 'job_admin.', 'job_blue-collar',\n",
       "       'job_entrepreneur', 'job_housemaid', 'job_management', 'job_retired',\n",
       "       'job_self-employed', 'job_services', 'job_student', 'job_technician',\n",
       "       'job_unemployed', 'job_unknown', 'marital_divorced', 'marital_married',\n",
       "       'marital_single', 'marital_unknown', 'education_basic.4y',\n",
       "       'education_basic.6y', 'education_basic.9y', 'education_high.school',\n",
       "       'education_illiterate', 'education_professional.course',\n",
       "       'education_university.degree', 'education_unknown', 'contact_cellular',\n",
       "       'contact_telephone', 'month_apr', 'month_aug', 'month_dec', 'month_jul',\n",
       "       'month_jun', 'month_mar', 'month_may', 'month_nov', 'month_oct',\n",
       "       'month_sep', 'day_of_week_fri', 'day_of_week_mon', 'day_of_week_thu',\n",
       "       'day_of_week_tue', 'day_of_week_wed'],\n",
       "      dtype='object')"
      ]
     },
     "execution_count": 122,
     "metadata": {},
     "output_type": "execute_result"
    }
   ],
   "source": [
    "dataProcessed.columns"
   ]
  },
  {
   "cell_type": "code",
   "execution_count": 123,
   "id": "4c33d02e",
   "metadata": {},
   "outputs": [],
   "source": [
    "dataProcessed.to_csv(r\"full_ohe.csv\", index=False)"
   ]
  },
  {
   "cell_type": "markdown",
   "id": "68dbaf14",
   "metadata": {},
   "source": [
    "Finally data is encoded"
   ]
  },
  {
   "cell_type": "markdown",
   "id": "61ee73d4",
   "metadata": {},
   "source": [
    "# Now lets compare the performance of various models on this data"
   ]
  },
  {
   "cell_type": "markdown",
   "id": "a35aef43",
   "metadata": {},
   "source": [
    "# Applying Logistic Regression with linear and polynomial features"
   ]
  },
  {
   "cell_type": "code",
   "execution_count": 124,
   "id": "6ddec176",
   "metadata": {},
   "outputs": [],
   "source": [
    "from sklearn.model_selection import train_test_split\n",
    "from sklearn.linear_model import LogisticRegression\n",
    "from sklearn import metrics\n",
    "from sklearn.preprocessing import PolynomialFeatures"
   ]
  },
  {
   "cell_type": "code",
   "execution_count": 125,
   "id": "fdc4dde4",
   "metadata": {},
   "outputs": [
    {
     "data": {
      "text/html": [
       "<div>\n",
       "<style scoped>\n",
       "    .dataframe tbody tr th:only-of-type {\n",
       "        vertical-align: middle;\n",
       "    }\n",
       "\n",
       "    .dataframe tbody tr th {\n",
       "        vertical-align: top;\n",
       "    }\n",
       "\n",
       "    .dataframe thead th {\n",
       "        text-align: right;\n",
       "    }\n",
       "</style>\n",
       "<table border=\"1\" class=\"dataframe\">\n",
       "  <thead>\n",
       "    <tr style=\"text-align: right;\">\n",
       "      <th></th>\n",
       "      <th>age</th>\n",
       "      <th>default</th>\n",
       "      <th>housing</th>\n",
       "      <th>loan</th>\n",
       "      <th>campaign</th>\n",
       "      <th>pdays</th>\n",
       "      <th>previous</th>\n",
       "      <th>poutcome</th>\n",
       "      <th>empvarrate</th>\n",
       "      <th>conspriceidx</th>\n",
       "      <th>...</th>\n",
       "      <th>month_mar</th>\n",
       "      <th>month_may</th>\n",
       "      <th>month_nov</th>\n",
       "      <th>month_oct</th>\n",
       "      <th>month_sep</th>\n",
       "      <th>day_of_week_fri</th>\n",
       "      <th>day_of_week_mon</th>\n",
       "      <th>day_of_week_thu</th>\n",
       "      <th>day_of_week_tue</th>\n",
       "      <th>day_of_week_wed</th>\n",
       "    </tr>\n",
       "  </thead>\n",
       "  <tbody>\n",
       "    <tr>\n",
       "      <th>0</th>\n",
       "      <td>0.481481</td>\n",
       "      <td>1</td>\n",
       "      <td>1</td>\n",
       "      <td>1</td>\n",
       "      <td>0.0</td>\n",
       "      <td>1.0</td>\n",
       "      <td>0.0</td>\n",
       "      <td>0</td>\n",
       "      <td>0.9375</td>\n",
       "      <td>0.698753</td>\n",
       "      <td>...</td>\n",
       "      <td>0</td>\n",
       "      <td>1</td>\n",
       "      <td>0</td>\n",
       "      <td>0</td>\n",
       "      <td>0</td>\n",
       "      <td>0</td>\n",
       "      <td>1</td>\n",
       "      <td>0</td>\n",
       "      <td>0</td>\n",
       "      <td>0</td>\n",
       "    </tr>\n",
       "    <tr>\n",
       "      <th>1</th>\n",
       "      <td>0.493827</td>\n",
       "      <td>0</td>\n",
       "      <td>1</td>\n",
       "      <td>1</td>\n",
       "      <td>0.0</td>\n",
       "      <td>1.0</td>\n",
       "      <td>0.0</td>\n",
       "      <td>0</td>\n",
       "      <td>0.9375</td>\n",
       "      <td>0.698753</td>\n",
       "      <td>...</td>\n",
       "      <td>0</td>\n",
       "      <td>1</td>\n",
       "      <td>0</td>\n",
       "      <td>0</td>\n",
       "      <td>0</td>\n",
       "      <td>0</td>\n",
       "      <td>1</td>\n",
       "      <td>0</td>\n",
       "      <td>0</td>\n",
       "      <td>0</td>\n",
       "    </tr>\n",
       "    <tr>\n",
       "      <th>2</th>\n",
       "      <td>0.246914</td>\n",
       "      <td>1</td>\n",
       "      <td>-1</td>\n",
       "      <td>1</td>\n",
       "      <td>0.0</td>\n",
       "      <td>1.0</td>\n",
       "      <td>0.0</td>\n",
       "      <td>0</td>\n",
       "      <td>0.9375</td>\n",
       "      <td>0.698753</td>\n",
       "      <td>...</td>\n",
       "      <td>0</td>\n",
       "      <td>1</td>\n",
       "      <td>0</td>\n",
       "      <td>0</td>\n",
       "      <td>0</td>\n",
       "      <td>0</td>\n",
       "      <td>1</td>\n",
       "      <td>0</td>\n",
       "      <td>0</td>\n",
       "      <td>0</td>\n",
       "    </tr>\n",
       "    <tr>\n",
       "      <th>3</th>\n",
       "      <td>0.283951</td>\n",
       "      <td>1</td>\n",
       "      <td>1</td>\n",
       "      <td>1</td>\n",
       "      <td>0.0</td>\n",
       "      <td>1.0</td>\n",
       "      <td>0.0</td>\n",
       "      <td>0</td>\n",
       "      <td>0.9375</td>\n",
       "      <td>0.698753</td>\n",
       "      <td>...</td>\n",
       "      <td>0</td>\n",
       "      <td>1</td>\n",
       "      <td>0</td>\n",
       "      <td>0</td>\n",
       "      <td>0</td>\n",
       "      <td>0</td>\n",
       "      <td>1</td>\n",
       "      <td>0</td>\n",
       "      <td>0</td>\n",
       "      <td>0</td>\n",
       "    </tr>\n",
       "    <tr>\n",
       "      <th>4</th>\n",
       "      <td>0.481481</td>\n",
       "      <td>1</td>\n",
       "      <td>1</td>\n",
       "      <td>-1</td>\n",
       "      <td>0.0</td>\n",
       "      <td>1.0</td>\n",
       "      <td>0.0</td>\n",
       "      <td>0</td>\n",
       "      <td>0.9375</td>\n",
       "      <td>0.698753</td>\n",
       "      <td>...</td>\n",
       "      <td>0</td>\n",
       "      <td>1</td>\n",
       "      <td>0</td>\n",
       "      <td>0</td>\n",
       "      <td>0</td>\n",
       "      <td>0</td>\n",
       "      <td>1</td>\n",
       "      <td>0</td>\n",
       "      <td>0</td>\n",
       "      <td>0</td>\n",
       "    </tr>\n",
       "  </tbody>\n",
       "</table>\n",
       "<p>5 rows × 56 columns</p>\n",
       "</div>"
      ],
      "text/plain": [
       "        age  default  housing  loan  campaign  pdays  previous  poutcome  \\\n",
       "0  0.481481        1        1     1       0.0    1.0       0.0         0   \n",
       "1  0.493827        0        1     1       0.0    1.0       0.0         0   \n",
       "2  0.246914        1       -1     1       0.0    1.0       0.0         0   \n",
       "3  0.283951        1        1     1       0.0    1.0       0.0         0   \n",
       "4  0.481481        1        1    -1       0.0    1.0       0.0         0   \n",
       "\n",
       "   empvarrate  conspriceidx  ...  month_mar  month_may  month_nov  month_oct  \\\n",
       "0      0.9375      0.698753  ...          0          1          0          0   \n",
       "1      0.9375      0.698753  ...          0          1          0          0   \n",
       "2      0.9375      0.698753  ...          0          1          0          0   \n",
       "3      0.9375      0.698753  ...          0          1          0          0   \n",
       "4      0.9375      0.698753  ...          0          1          0          0   \n",
       "\n",
       "   month_sep  day_of_week_fri  day_of_week_mon  day_of_week_thu  \\\n",
       "0          0                0                1                0   \n",
       "1          0                0                1                0   \n",
       "2          0                0                1                0   \n",
       "3          0                0                1                0   \n",
       "4          0                0                1                0   \n",
       "\n",
       "   day_of_week_tue  day_of_week_wed  \n",
       "0                0                0  \n",
       "1                0                0  \n",
       "2                0                0  \n",
       "3                0                0  \n",
       "4                0                0  \n",
       "\n",
       "[5 rows x 56 columns]"
      ]
     },
     "execution_count": 125,
     "metadata": {},
     "output_type": "execute_result"
    }
   ],
   "source": [
    "data1 = pd.read_csv(\"full_ohe.csv\")\n",
    "data1.head()"
   ]
  },
  {
   "cell_type": "code",
   "execution_count": 126,
   "id": "f2476c56",
   "metadata": {},
   "outputs": [
    {
     "data": {
      "text/plain": [
       "Index(['age', 'default', 'housing', 'loan', 'campaign', 'pdays', 'previous',\n",
       "       'poutcome', 'empvarrate', 'conspriceidx', 'cons.conf.idx', 'euribor3m',\n",
       "       'nr.employed', 'y', 'pdays2', 'job_admin.', 'job_blue-collar',\n",
       "       'job_entrepreneur', 'job_housemaid', 'job_management', 'job_retired',\n",
       "       'job_self-employed', 'job_services', 'job_student', 'job_technician',\n",
       "       'job_unemployed', 'job_unknown', 'marital_divorced', 'marital_married',\n",
       "       'marital_single', 'marital_unknown', 'education_basic.4y',\n",
       "       'education_basic.6y', 'education_basic.9y', 'education_high.school',\n",
       "       'education_illiterate', 'education_professional.course',\n",
       "       'education_university.degree', 'education_unknown', 'contact_cellular',\n",
       "       'contact_telephone', 'month_apr', 'month_aug', 'month_dec', 'month_jul',\n",
       "       'month_jun', 'month_mar', 'month_may', 'month_nov', 'month_oct',\n",
       "       'month_sep', 'day_of_week_fri', 'day_of_week_mon', 'day_of_week_thu',\n",
       "       'day_of_week_tue', 'day_of_week_wed'],\n",
       "      dtype='object')"
      ]
     },
     "execution_count": 126,
     "metadata": {},
     "output_type": "execute_result"
    }
   ],
   "source": [
    "data1.columns"
   ]
  },
  {
   "cell_type": "code",
   "execution_count": 132,
   "id": "ebcc7fdf",
   "metadata": {},
   "outputs": [
    {
     "data": {
      "text/plain": [
       "array([[ 0.48148148,  1.        ,  1.        , ...,  0.        ,\n",
       "         0.        ,  0.        ],\n",
       "       [ 0.49382716,  0.        ,  1.        , ...,  0.        ,\n",
       "         0.        ,  0.        ],\n",
       "       [ 0.24691358,  1.        , -1.        , ...,  0.        ,\n",
       "         0.        ,  0.        ],\n",
       "       ...,\n",
       "       [ 0.24691358,  1.        , -1.        , ...,  0.        ,\n",
       "         0.        ,  0.        ],\n",
       "       [ 0.69135802,  1.        , -1.        , ...,  0.        ,\n",
       "         0.        ,  0.        ],\n",
       "       [ 0.33333333,  1.        ,  1.        , ...,  0.        ,\n",
       "         0.        ,  0.        ]])"
      ]
     },
     "execution_count": 132,
     "metadata": {},
     "output_type": "execute_result"
    }
   ],
   "source": [
    "# Seperating features and result vectors(raw data)\n",
    "X = data1.drop('y', axis=1).values\n",
    "X"
   ]
  },
  {
   "cell_type": "code",
   "execution_count": 133,
   "id": "63084480",
   "metadata": {},
   "outputs": [
    {
     "data": {
      "text/plain": [
       "array([0, 0, 0, ..., 1, 1, 1], dtype=int64)"
      ]
     },
     "execution_count": 133,
     "metadata": {},
     "output_type": "execute_result"
    }
   ],
   "source": [
    "y = data1['y'].values \n",
    "y"
   ]
  },
  {
   "cell_type": "markdown",
   "id": "2ffede22",
   "metadata": {},
   "source": [
    "# Test-Train Split"
   ]
  },
  {
   "cell_type": "code",
   "execution_count": 134,
   "id": "7c30d2f1",
   "metadata": {},
   "outputs": [],
   "source": [
    "X_train, X_test, y_train, y_test = train_test_split(X, y, test_size=0.30, random_state=42)"
   ]
  },
  {
   "cell_type": "code",
   "execution_count": 174,
   "id": "a0e74ef7",
   "metadata": {},
   "outputs": [
    {
     "name": "stdout",
     "output_type": "stream",
     "text": [
      "Shape of x_train:  (51567, 55)\n",
      "Shape of x_test:  (22101, 55)\n",
      "Shape of y_train:  (51567,)\n",
      "Shape of y_test:  (22101,)\n"
     ]
    }
   ],
   "source": [
    "print('Shape of x_train: ',X_train.shape)\n",
    "print('Shape of x_test: ',X_test.shape)\n",
    "\n",
    "print('Shape of y_train: ',y_train.shape)\n",
    "print('Shape of y_test: ',y_test.shape)"
   ]
  },
  {
   "cell_type": "code",
   "execution_count": 135,
   "id": "bce597e7",
   "metadata": {},
   "outputs": [],
   "source": [
    "poly_features_1 = PolynomialFeatures(degree=1)\n",
    "poly_features_2 = PolynomialFeatures(degree=2)"
   ]
  },
  {
   "cell_type": "code",
   "execution_count": 136,
   "id": "02d462d9",
   "metadata": {},
   "outputs": [],
   "source": [
    "X_train_poly1 = poly_features_1.fit_transform(X_train)\n",
    "X_train_poly2 = poly_features_2.fit_transform(X_train)"
   ]
  },
  {
   "cell_type": "markdown",
   "id": "cd77520f",
   "metadata": {},
   "source": [
    "# Function for Confusion Matrix"
   ]
  },
  {
   "cell_type": "code",
   "execution_count": 185,
   "id": "cec8126a",
   "metadata": {},
   "outputs": [],
   "source": [
    "from sklearn.metrics import confusion_matrix\n",
    "from matplotlib.colors import ListedColormap\n",
    "def plot_confusion_matrix(y_test,y_pred,model):\n",
    "    cm = confusion_matrix(y_test,y_pred)\n",
    "    conf_matrix = pd.DataFrame(data = cm, columns =  ['Predicted:0','Predicted:1'],\n",
    "                              index = ['Actual:0','Actual:1'])\n",
    "    sns.heatmap(conf_matrix,annot = True,fmt = 'd', cmap = ListedColormap('lightskyblue'),\n",
    "                cbar = False,linewidth = 0.1,annot_kws = {'size':25})\n",
    "    plt.show()"
   ]
  },
  {
   "cell_type": "code",
   "execution_count": 137,
   "id": "664dd2df",
   "metadata": {},
   "outputs": [
    {
     "name": "stderr",
     "output_type": "stream",
     "text": [
      "C:\\Users\\swati\\miniconda3\\lib\\site-packages\\sklearn\\linear_model\\_logistic.py:814: ConvergenceWarning: lbfgs failed to converge (status=1):\n",
      "STOP: TOTAL NO. of ITERATIONS REACHED LIMIT.\n",
      "\n",
      "Increase the number of iterations (max_iter) or scale the data as shown in:\n",
      "    https://scikit-learn.org/stable/modules/preprocessing.html\n",
      "Please also refer to the documentation for alternative solver options:\n",
      "    https://scikit-learn.org/stable/modules/linear_model.html#logistic-regression\n",
      "  n_iter_i = _check_optimize_result(\n"
     ]
    }
   ],
   "source": [
    "logisticRegr = LogisticRegression()\n",
    "logisticRegr.fit(X_train_poly1, y_train)\n",
    "y_test_predict = logisticRegr.predict(poly_features_1.fit_transform(X_test))\n",
    "acc1 = metrics.accuracy_score(y_test_predict, y_test)\n",
    "pre1 = metrics.precision_score(y_test_predict,y_test)\n",
    "rec1 = metrics.recall_score(y_test_predict,y_test)\n",
    "f1_1 = metrics.f1_score(y_test_predict,y_test)"
   ]
  },
  {
   "cell_type": "code",
   "execution_count": 191,
   "id": "6a34cc30",
   "metadata": {},
   "outputs": [
    {
     "name": "stderr",
     "output_type": "stream",
     "text": [
      "C:\\Users\\swati\\miniconda3\\lib\\site-packages\\sklearn\\linear_model\\_logistic.py:814: ConvergenceWarning: lbfgs failed to converge (status=1):\n",
      "STOP: TOTAL NO. of ITERATIONS REACHED LIMIT.\n",
      "\n",
      "Increase the number of iterations (max_iter) or scale the data as shown in:\n",
      "    https://scikit-learn.org/stable/modules/preprocessing.html\n",
      "Please also refer to the documentation for alternative solver options:\n",
      "    https://scikit-learn.org/stable/modules/linear_model.html#logistic-regression\n",
      "  n_iter_i = _check_optimize_result(\n"
     ]
    }
   ],
   "source": [
    "logisticRegr = LogisticRegression()\n",
    "logisticRegr.fit(X_train_poly2, y_train)\n",
    "y_test_predict = logisticRegr.predict(poly_features_2.fit_transform(X_test))\n",
    "acc2 = metrics.accuracy_score(y_test_predict, y_test)\n",
    "pre2 = metrics.precision_score(y_test_predict,y_test)\n",
    "rec2 = metrics.recall_score(y_test_predict,y_test)\n",
    "f1_2 = metrics.f1_score(y_test_predict,y_test)"
   ]
  },
  {
   "cell_type": "code",
   "execution_count": 192,
   "id": "9be6ac36",
   "metadata": {},
   "outputs": [
    {
     "data": {
      "image/png": "[encoded data removed]",
      "text/plain": [
       "<Figure size 432x288 with 1 Axes>"
      ]
     },
     "metadata": {
      "needs_background": "light"
     },
     "output_type": "display_data"
    }
   ],
   "source": [
    "plot_confusion_matrix(y_test,y_test_predict,logisticRegr)"
   ]
  },
  {
   "cell_type": "code",
   "execution_count": 139,
   "id": "52ffb169",
   "metadata": {},
   "outputs": [
    {
     "data": {
      "text/html": [
       "<div>\n",
       "<style scoped>\n",
       "    .dataframe tbody tr th:only-of-type {\n",
       "        vertical-align: middle;\n",
       "    }\n",
       "\n",
       "    .dataframe tbody tr th {\n",
       "        vertical-align: top;\n",
       "    }\n",
       "\n",
       "    .dataframe thead th {\n",
       "        text-align: right;\n",
       "    }\n",
       "</style>\n",
       "<table border=\"1\" class=\"dataframe\">\n",
       "  <thead>\n",
       "    <tr style=\"text-align: right;\">\n",
       "      <th></th>\n",
       "      <th>Metric</th>\n",
       "      <th>Logistic Regression with Linear Features</th>\n",
       "      <th>Logistic Regression with Features of Degree=2</th>\n",
       "    </tr>\n",
       "  </thead>\n",
       "  <tbody>\n",
       "    <tr>\n",
       "      <th>0</th>\n",
       "      <td>Accuracy</td>\n",
       "      <td>0.742591</td>\n",
       "      <td>0.750781</td>\n",
       "    </tr>\n",
       "    <tr>\n",
       "      <th>1</th>\n",
       "      <td>Precision</td>\n",
       "      <td>0.639924</td>\n",
       "      <td>0.664561</td>\n",
       "    </tr>\n",
       "    <tr>\n",
       "      <th>2</th>\n",
       "      <td>Recall</td>\n",
       "      <td>0.806712</td>\n",
       "      <td>0.804369</td>\n",
       "    </tr>\n",
       "    <tr>\n",
       "      <th>3</th>\n",
       "      <td>F1 Score</td>\n",
       "      <td>0.713703</td>\n",
       "      <td>0.727812</td>\n",
       "    </tr>\n",
       "  </tbody>\n",
       "</table>\n",
       "</div>"
      ],
      "text/plain": [
       "      Metric  Logistic Regression with Linear Features  \\\n",
       "0   Accuracy                                  0.742591   \n",
       "1  Precision                                  0.639924   \n",
       "2     Recall                                  0.806712   \n",
       "3   F1 Score                                  0.713703   \n",
       "\n",
       "   Logistic Regression with Features of Degree=2  \n",
       "0                                       0.750781  \n",
       "1                                       0.664561  \n",
       "2                                       0.804369  \n",
       "3                                       0.727812  "
      ]
     },
     "execution_count": 139,
     "metadata": {},
     "output_type": "execute_result"
    }
   ],
   "source": [
    "table = pd.DataFrame({\n",
    "    'Metric': ['Accuracy', 'Precision', 'Recall', 'F1 Score'],\n",
    "    'Logistic Regression with Linear Features': [acc1, pre1, rec1, f1_1],\n",
    "    'Logistic Regression with Features of Degree=2' : [acc2, pre2, rec2, f1_2]})\n",
    "\n",
    "table"
   ]
  },
  {
   "cell_type": "markdown",
   "id": "0a02cc47",
   "metadata": {},
   "source": [
    "# RandomForest Classifier"
   ]
  },
  {
   "cell_type": "code",
   "execution_count": 140,
   "id": "e57b6cc0",
   "metadata": {},
   "outputs": [],
   "source": [
    "from sklearn.ensemble import RandomForestClassifier"
   ]
  },
  {
   "cell_type": "code",
   "execution_count": 141,
   "id": "8170f60b",
   "metadata": {},
   "outputs": [
    {
     "data": {
      "text/html": [
       "<div>\n",
       "<style scoped>\n",
       "    .dataframe tbody tr th:only-of-type {\n",
       "        vertical-align: middle;\n",
       "    }\n",
       "\n",
       "    .dataframe tbody tr th {\n",
       "        vertical-align: top;\n",
       "    }\n",
       "\n",
       "    .dataframe thead th {\n",
       "        text-align: right;\n",
       "    }\n",
       "</style>\n",
       "<table border=\"1\" class=\"dataframe\">\n",
       "  <thead>\n",
       "    <tr style=\"text-align: right;\">\n",
       "      <th></th>\n",
       "      <th>age</th>\n",
       "      <th>default</th>\n",
       "      <th>housing</th>\n",
       "      <th>loan</th>\n",
       "      <th>campaign</th>\n",
       "      <th>pdays</th>\n",
       "      <th>previous</th>\n",
       "      <th>poutcome</th>\n",
       "      <th>empvarrate</th>\n",
       "      <th>conspriceidx</th>\n",
       "      <th>...</th>\n",
       "      <th>month_mar</th>\n",
       "      <th>month_may</th>\n",
       "      <th>month_nov</th>\n",
       "      <th>month_oct</th>\n",
       "      <th>month_sep</th>\n",
       "      <th>day_of_week_fri</th>\n",
       "      <th>day_of_week_mon</th>\n",
       "      <th>day_of_week_thu</th>\n",
       "      <th>day_of_week_tue</th>\n",
       "      <th>day_of_week_wed</th>\n",
       "    </tr>\n",
       "  </thead>\n",
       "  <tbody>\n",
       "    <tr>\n",
       "      <th>0</th>\n",
       "      <td>0.481481</td>\n",
       "      <td>1</td>\n",
       "      <td>1</td>\n",
       "      <td>1</td>\n",
       "      <td>0.0</td>\n",
       "      <td>1.0</td>\n",
       "      <td>0.0</td>\n",
       "      <td>0</td>\n",
       "      <td>0.9375</td>\n",
       "      <td>0.698753</td>\n",
       "      <td>...</td>\n",
       "      <td>0</td>\n",
       "      <td>1</td>\n",
       "      <td>0</td>\n",
       "      <td>0</td>\n",
       "      <td>0</td>\n",
       "      <td>0</td>\n",
       "      <td>1</td>\n",
       "      <td>0</td>\n",
       "      <td>0</td>\n",
       "      <td>0</td>\n",
       "    </tr>\n",
       "    <tr>\n",
       "      <th>1</th>\n",
       "      <td>0.493827</td>\n",
       "      <td>0</td>\n",
       "      <td>1</td>\n",
       "      <td>1</td>\n",
       "      <td>0.0</td>\n",
       "      <td>1.0</td>\n",
       "      <td>0.0</td>\n",
       "      <td>0</td>\n",
       "      <td>0.9375</td>\n",
       "      <td>0.698753</td>\n",
       "      <td>...</td>\n",
       "      <td>0</td>\n",
       "      <td>1</td>\n",
       "      <td>0</td>\n",
       "      <td>0</td>\n",
       "      <td>0</td>\n",
       "      <td>0</td>\n",
       "      <td>1</td>\n",
       "      <td>0</td>\n",
       "      <td>0</td>\n",
       "      <td>0</td>\n",
       "    </tr>\n",
       "    <tr>\n",
       "      <th>2</th>\n",
       "      <td>0.246914</td>\n",
       "      <td>1</td>\n",
       "      <td>-1</td>\n",
       "      <td>1</td>\n",
       "      <td>0.0</td>\n",
       "      <td>1.0</td>\n",
       "      <td>0.0</td>\n",
       "      <td>0</td>\n",
       "      <td>0.9375</td>\n",
       "      <td>0.698753</td>\n",
       "      <td>...</td>\n",
       "      <td>0</td>\n",
       "      <td>1</td>\n",
       "      <td>0</td>\n",
       "      <td>0</td>\n",
       "      <td>0</td>\n",
       "      <td>0</td>\n",
       "      <td>1</td>\n",
       "      <td>0</td>\n",
       "      <td>0</td>\n",
       "      <td>0</td>\n",
       "    </tr>\n",
       "    <tr>\n",
       "      <th>3</th>\n",
       "      <td>0.283951</td>\n",
       "      <td>1</td>\n",
       "      <td>1</td>\n",
       "      <td>1</td>\n",
       "      <td>0.0</td>\n",
       "      <td>1.0</td>\n",
       "      <td>0.0</td>\n",
       "      <td>0</td>\n",
       "      <td>0.9375</td>\n",
       "      <td>0.698753</td>\n",
       "      <td>...</td>\n",
       "      <td>0</td>\n",
       "      <td>1</td>\n",
       "      <td>0</td>\n",
       "      <td>0</td>\n",
       "      <td>0</td>\n",
       "      <td>0</td>\n",
       "      <td>1</td>\n",
       "      <td>0</td>\n",
       "      <td>0</td>\n",
       "      <td>0</td>\n",
       "    </tr>\n",
       "    <tr>\n",
       "      <th>4</th>\n",
       "      <td>0.481481</td>\n",
       "      <td>1</td>\n",
       "      <td>1</td>\n",
       "      <td>-1</td>\n",
       "      <td>0.0</td>\n",
       "      <td>1.0</td>\n",
       "      <td>0.0</td>\n",
       "      <td>0</td>\n",
       "      <td>0.9375</td>\n",
       "      <td>0.698753</td>\n",
       "      <td>...</td>\n",
       "      <td>0</td>\n",
       "      <td>1</td>\n",
       "      <td>0</td>\n",
       "      <td>0</td>\n",
       "      <td>0</td>\n",
       "      <td>0</td>\n",
       "      <td>1</td>\n",
       "      <td>0</td>\n",
       "      <td>0</td>\n",
       "      <td>0</td>\n",
       "    </tr>\n",
       "  </tbody>\n",
       "</table>\n",
       "<p>5 rows × 56 columns</p>\n",
       "</div>"
      ],
      "text/plain": [
       "        age  default  housing  loan  campaign  pdays  previous  poutcome  \\\n",
       "0  0.481481        1        1     1       0.0    1.0       0.0         0   \n",
       "1  0.493827        0        1     1       0.0    1.0       0.0         0   \n",
       "2  0.246914        1       -1     1       0.0    1.0       0.0         0   \n",
       "3  0.283951        1        1     1       0.0    1.0       0.0         0   \n",
       "4  0.481481        1        1    -1       0.0    1.0       0.0         0   \n",
       "\n",
       "   empvarrate  conspriceidx  ...  month_mar  month_may  month_nov  month_oct  \\\n",
       "0      0.9375      0.698753  ...          0          1          0          0   \n",
       "1      0.9375      0.698753  ...          0          1          0          0   \n",
       "2      0.9375      0.698753  ...          0          1          0          0   \n",
       "3      0.9375      0.698753  ...          0          1          0          0   \n",
       "4      0.9375      0.698753  ...          0          1          0          0   \n",
       "\n",
       "   month_sep  day_of_week_fri  day_of_week_mon  day_of_week_thu  \\\n",
       "0          0                0                1                0   \n",
       "1          0                0                1                0   \n",
       "2          0                0                1                0   \n",
       "3          0                0                1                0   \n",
       "4          0                0                1                0   \n",
       "\n",
       "   day_of_week_tue  day_of_week_wed  \n",
       "0                0                0  \n",
       "1                0                0  \n",
       "2                0                0  \n",
       "3                0                0  \n",
       "4                0                0  \n",
       "\n",
       "[5 rows x 56 columns]"
      ]
     },
     "execution_count": 141,
     "metadata": {},
     "output_type": "execute_result"
    }
   ],
   "source": [
    "data1 = pd.read_csv(\"full_ohe.csv\")\n",
    "data1.head()"
   ]
  },
  {
   "cell_type": "code",
   "execution_count": 142,
   "id": "f6f5a7d7",
   "metadata": {},
   "outputs": [
    {
     "data": {
      "text/plain": [
       "((73668, 55), (73668,))"
      ]
     },
     "execution_count": 142,
     "metadata": {},
     "output_type": "execute_result"
    }
   ],
   "source": [
    "#raw data\n",
    "#separating features and result vector.\n",
    "X = data1.drop('y', axis=1).values\n",
    "y = data1['y'].values\n",
    "X.shape,y.shape"
   ]
  },
  {
   "cell_type": "markdown",
   "id": "253db4a3",
   "metadata": {},
   "source": [
    "# Test- Train Split"
   ]
  },
  {
   "cell_type": "code",
   "execution_count": 203,
   "id": "6f64dabd",
   "metadata": {},
   "outputs": [],
   "source": [
    "X_train, X_test, y_train, y_test = train_test_split(X, y, test_size = 0.3, random_state=42)"
   ]
  },
  {
   "cell_type": "code",
   "execution_count": 204,
   "id": "ff05e960",
   "metadata": {},
   "outputs": [
    {
     "data": {
      "text/plain": [
       "RandomForestClassifier()"
      ]
     },
     "execution_count": 204,
     "metadata": {},
     "output_type": "execute_result"
    }
   ],
   "source": [
    "rfc = RandomForestClassifier(n_estimators=100)\n",
    "rfc.fit(X_train, y_train)"
   ]
  },
  {
   "cell_type": "code",
   "execution_count": 205,
   "id": "e912bb4f",
   "metadata": {},
   "outputs": [],
   "source": [
    "predict = rfc.predict(X_test)"
   ]
  },
  {
   "cell_type": "code",
   "execution_count": 206,
   "id": "4aa96c1d",
   "metadata": {},
   "outputs": [],
   "source": [
    "acc = metrics.accuracy_score(predict, y_test)\n",
    "pre = metrics.precision_score(predict, y_test)\n",
    "rec = metrics.recall_score(predict, y_test)\n",
    "f1 = metrics.f1_score(predict, y_test)"
   ]
  },
  {
   "cell_type": "markdown",
   "id": "338cf26a",
   "metadata": {},
   "source": [
    "Printing classification Report"
   ]
  },
  {
   "cell_type": "code",
   "execution_count": 207,
   "id": "bd2c57bf",
   "metadata": {},
   "outputs": [
    {
     "name": "stdout",
     "output_type": "stream",
     "text": [
      "RandomForestClassifier Report:\n",
      "\n",
      "              precision    recall  f1-score   support\n",
      "\n",
      "           0       1.00      0.92      0.96     11020\n",
      "           1       0.93      1.00      0.96     11081\n",
      "\n",
      "    accuracy                           0.96     22101\n",
      "   macro avg       0.96      0.96      0.96     22101\n",
      "weighted avg       0.96      0.96      0.96     22101\n",
      "\n",
      "Accuracy of RandomForestClassifier is: 0.9595493416587485\n"
     ]
    }
   ],
   "source": [
    " from sklearn.metrics import classification_report\n",
    "print('RandomForestClassifier Report:\\n')\n",
    "print(classification_report(y_test,predict))\n",
    "print('Accuracy of RandomForestClassifier is: {}'.format(acc))"
   ]
  },
  {
   "cell_type": "code",
   "execution_count": 209,
   "id": "b21acd7c",
   "metadata": {},
   "outputs": [
    {
     "data": {
      "image/png": "[encoded data removed]",
      "text/plain": [
       "<Figure size 432x288 with 1 Axes>"
      ]
     },
     "metadata": {
      "needs_background": "light"
     },
     "output_type": "display_data"
    }
   ],
   "source": [
    "plot_confusion_matrix(y_test,predict,rfc)"
   ]
  },
  {
   "cell_type": "markdown",
   "id": "f8f187a4",
   "metadata": {},
   "source": [
    "# DecisionTree Classifier"
   ]
  },
  {
   "cell_type": "code",
   "execution_count": 148,
   "id": "3b8be8c2",
   "metadata": {},
   "outputs": [],
   "source": [
    "from sklearn.tree import DecisionTreeClassifier"
   ]
  },
  {
   "cell_type": "code",
   "execution_count": 149,
   "id": "91772684",
   "metadata": {},
   "outputs": [
    {
     "data": {
      "text/plain": [
       "DecisionTreeClassifier()"
      ]
     },
     "execution_count": 149,
     "metadata": {},
     "output_type": "execute_result"
    }
   ],
   "source": [
    "dtc = DecisionTreeClassifier()\n",
    "dtc.fit(x_train, y_train)"
   ]
  },
  {
   "cell_type": "code",
   "execution_count": 150,
   "id": "cb1f3226",
   "metadata": {},
   "outputs": [],
   "source": [
    "# Test set prediction\n",
    "dtc_predict = dtc.predict(x_test)"
   ]
  },
  {
   "cell_type": "code",
   "execution_count": 195,
   "id": "536fc293",
   "metadata": {},
   "outputs": [],
   "source": [
    "dtc_predict_prob = dtc.predict_proba(x_test)[:,1]"
   ]
  },
  {
   "cell_type": "code",
   "execution_count": 151,
   "id": "f5e64fc4",
   "metadata": {},
   "outputs": [],
   "source": [
    "# Evaluating predictions\n",
    "from sklearn.metrics import confusion_matrix\n",
    "dtc_accuracy = metrics.accuracy_score(y_test, dtc_predict)\n",
    "dtc_cm = confusion_matrix(y_test, dtc_predict)"
   ]
  },
  {
   "cell_type": "code",
   "execution_count": 152,
   "id": "82fba769",
   "metadata": {},
   "outputs": [
    {
     "name": "stdout",
     "output_type": "stream",
     "text": [
      "DecisionTreeClassifier Report:\n",
      "\n",
      "              precision    recall  f1-score   support\n",
      "\n",
      "           0       1.00      0.87      0.93     11020\n",
      "           1       0.89      1.00      0.94     11081\n",
      "\n",
      "    accuracy                           0.94     22101\n",
      "   macro avg       0.94      0.94      0.93     22101\n",
      "weighted avg       0.94      0.94      0.93     22101\n",
      "\n",
      "Accuracy of DecisionTreeClassifier is: 0.9352065517397403\n"
     ]
    }
   ],
   "source": [
    "# Printing classification report \n",
    "from sklearn.metrics import classification_report\n",
    "print('DecisionTreeClassifier Report:\\n')\n",
    "print(classification_report(y_test, dtc_predict))\n",
    "print('Accuracy of DecisionTreeClassifier is: {}'.format(dtc_accuracy))"
   ]
  },
  {
   "cell_type": "code",
   "execution_count": 184,
   "id": "9c0cd3c6",
   "metadata": {},
   "outputs": [
    {
     "data": {
      "image/png": "[encoded data removed]",
      "text/plain": [
       "<Figure size 432x288 with 1 Axes>"
      ]
     },
     "metadata": {
      "needs_background": "light"
     },
     "output_type": "display_data"
    }
   ],
   "source": [
    "plot_confusion_matrix(y_test,dtc_predict,dtc)"
   ]
  },
  {
   "cell_type": "code",
   "execution_count": 153,
   "id": "e5dc24db",
   "metadata": {},
   "outputs": [],
   "source": [
    "#ROC curve\n",
    "from sklearn.metrics import roc_curve, roc_auc_score\n"
   ]
  },
  {
   "cell_type": "code",
   "execution_count": 154,
   "id": "a1b824ec",
   "metadata": {},
   "outputs": [],
   "source": [
    "y_score1 = dtc.predict_proba(X_test)[:,1]\n",
    "y_score2 = rfc.predict_proba(X_test)[:,1]"
   ]
  },
  {
   "cell_type": "code",
   "execution_count": 155,
   "id": "d3e573d2",
   "metadata": {},
   "outputs": [],
   "source": [
    "false_positive_rate1, true_positive_rate1, threshold1 = roc_curve(y_test, y_score1)\n",
    "false_positive_rate2, true_positive_rate2, threshold2 = roc_curve(y_test, y_score2)"
   ]
  },
  {
   "cell_type": "code",
   "execution_count": 156,
   "id": "b7bb4d14",
   "metadata": {},
   "outputs": [
    {
     "name": "stdout",
     "output_type": "stream",
     "text": [
      "roc_auc_score for DecisionTree:  0.9372632984207528\n",
      "roc_auc_score for randomForest:  0.9949424883357674\n"
     ]
    }
   ],
   "source": [
    "print('roc_auc_score for DecisionTree: ', roc_auc_score(y_test, y_score1))\n",
    "print('roc_auc_score for randomForest: ', roc_auc_score(y_test, y_score2))"
   ]
  },
  {
   "cell_type": "code",
   "execution_count": 197,
   "id": "062d10aa",
   "metadata": {},
   "outputs": [
    {
     "data": {
      "image/png": "[encoded data removed]",
      "text/plain": [
       "<Figure size 1080x360 with 1 Axes>"
      ]
     },
     "metadata": {
      "needs_background": "light"
     },
     "output_type": "display_data"
    }
   ],
   "source": [
    "plt.subplots(1, figsize=(15,5))\n",
    "plt.title('Receiver Operating Characteristic - DecisionTree & RandomForest')\n",
    "plt.plot(false_positive_rate1, true_positive_rate1)\n",
    "plt.plot(false_positive_rate2, true_positive_rate2)\n",
    "plt.plot([0, 1], ls=\"--\")\n",
    "plt.plot([0, 0], [1, 0] , c=\".7\"), plt.plot([1, 1] , c=\".7\")\n",
    "plt.ylabel('True Positive Rate')\n",
    "plt.xlabel('False Positive Rate')\n",
    "plt.show()"
   ]
  },
  {
   "cell_type": "code",
   "execution_count": null,
   "id": "cf2fffd5",
   "metadata": {},
   "outputs": [],
   "source": []
  }
 ],
 "metadata": {
  "kernelspec": {
   "display_name": "Python 3 (ipykernel)",
   "language": "python",
   "name": "python3"
  },
  "language_info": {
   "codemirror_mode": {
    "name": "ipython",
    "version": 3
   },
   "file_extension": ".py",
   "mimetype": "text/x-python",
   "name": "python",
   "nbconvert_exporter": "python",
   "pygments_lexer": "ipython3",
   "version": "3.9.12"
  }
 },
 "nbformat": 4,
 "nbformat_minor": 5
}
